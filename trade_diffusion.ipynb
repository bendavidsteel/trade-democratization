{
  "nbformat": 4,
  "nbformat_minor": 0,
  "metadata": {
    "colab": {
      "name": "trade_diffusion.ipynb",
      "provenance": [],
      "collapsed_sections": [],
      "authorship_tag": "ABX9TyPfQEigx9SlFAMxMubbkEAg",
      "include_colab_link": true
    },
    "kernelspec": {
      "name": "python3",
      "display_name": "Python 3"
    }
  },
  "cells": [
    {
      "cell_type": "markdown",
      "metadata": {
        "id": "view-in-github",
        "colab_type": "text"
      },
      "source": [
        "<a href=\"https://colab.research.google.com/github/bendavidsteel/trade-democratization/blob/master/trade_diffusion.ipynb\" target=\"_parent\"><img src=\"https://colab.research.google.com/assets/colab-badge.svg\" alt=\"Open In Colab\"/></a>"
      ]
    },
    {
      "cell_type": "code",
      "metadata": {
        "id": "9HlIailEbTFk",
        "colab_type": "code",
        "colab": {
          "base_uri": "https://localhost:8080/",
          "height": 124
        },
        "outputId": "87fe4cff-1ce3-4af2-8c91-111866260eb9"
      },
      "source": [
        "import itertools\n",
        "import os\n",
        "\n",
        "import matplotlib.pyplot as plt\n",
        "import numpy as np\n",
        "import pandas as pd\n",
        "from pylab import rcParams\n",
        "\n",
        "rcParams['figure.figsize'] = 12, 6\n",
        "\n",
        "from google.colab import drive\n",
        "drive.mount('/content/drive')"
      ],
      "execution_count": null,
      "outputs": [
        {
          "output_type": "stream",
          "text": [
            "Go to this URL in a browser: https://accounts.google.com/o/oauth2/auth?client_id=947318989803-6bn6qk8qdgf4n4g3pfee6491hc0brc4i.apps.googleusercontent.com&redirect_uri=urn%3aietf%3awg%3aoauth%3a2.0%3aoob&response_type=code&scope=email%20https%3a%2f%2fwww.googleapis.com%2fauth%2fdocs.test%20https%3a%2f%2fwww.googleapis.com%2fauth%2fdrive%20https%3a%2f%2fwww.googleapis.com%2fauth%2fdrive.photos.readonly%20https%3a%2f%2fwww.googleapis.com%2fauth%2fpeopleapi.readonly\n",
            "\n",
            "Enter your authorization code:\n",
            "··········\n",
            "Mounted at /content/drive\n"
          ],
          "name": "stdout"
        }
      ]
    },
    {
      "cell_type": "markdown",
      "metadata": {
        "id": "32JRsdyv5Pg1",
        "colab_type": "text"
      },
      "source": [
        "In this project we will be linking the [V-Dem dataset](https://www.v-dem.net/en) and the [CEPII Trade History dataset](http://www.cepii.fr/cepii/en/bdd_modele/bdd.asp) into a time series graph dataset, in an attempt to investigate how bilateral trade affects the democratization of nations over time."
      ]
    },
    {
      "cell_type": "code",
      "metadata": {
        "id": "LC4nveOW2GY4",
        "colab_type": "code",
        "colab": {
          "base_uri": "https://localhost:8080/",
          "height": 429
        },
        "outputId": "ab76c244-8bb0-46c2-8619-7416a8e09dd9"
      },
      "source": [
        "dataset_path = os.path.join('/', 'content', 'drive', 'My Drive', 'projects', 'trade_democratization', 'dataset')\n",
        "# here we load the democracy indices from the V-Dem dataset\n",
        "vdem_nodes = pd.read_csv(os.path.join(dataset_path, \"V-Dem-CY-Core-v10.csv\"))\n",
        "vdem_nodes.head()"
      ],
      "execution_count": null,
      "outputs": [
        {
          "output_type": "execute_result",
          "data": {
            "text/html": [
              "<div>\n",
              "<style scoped>\n",
              "    .dataframe tbody tr th:only-of-type {\n",
              "        vertical-align: middle;\n",
              "    }\n",
              "\n",
              "    .dataframe tbody tr th {\n",
              "        vertical-align: top;\n",
              "    }\n",
              "\n",
              "    .dataframe thead th {\n",
              "        text-align: right;\n",
              "    }\n",
              "</style>\n",
              "<table border=\"1\" class=\"dataframe\">\n",
              "  <thead>\n",
              "    <tr style=\"text-align: right;\">\n",
              "      <th></th>\n",
              "      <th>country_name</th>\n",
              "      <th>country_text_id</th>\n",
              "      <th>country_id</th>\n",
              "      <th>year</th>\n",
              "      <th>historical_date</th>\n",
              "      <th>project</th>\n",
              "      <th>historical</th>\n",
              "      <th>histname</th>\n",
              "      <th>codingstart</th>\n",
              "      <th>codingend</th>\n",
              "      <th>codingstart_contemp</th>\n",
              "      <th>codingend_contemp</th>\n",
              "      <th>codingstart_hist</th>\n",
              "      <th>codingend_hist</th>\n",
              "      <th>gapstart1</th>\n",
              "      <th>gapstart2</th>\n",
              "      <th>gapstart3</th>\n",
              "      <th>gapend1</th>\n",
              "      <th>gapend2</th>\n",
              "      <th>gapend3</th>\n",
              "      <th>COWcode</th>\n",
              "      <th>v2x_polyarchy</th>\n",
              "      <th>v2x_polyarchy_codelow</th>\n",
              "      <th>v2x_polyarchy_codehigh</th>\n",
              "      <th>v2x_polyarchy_sd</th>\n",
              "      <th>v2x_libdem</th>\n",
              "      <th>v2x_libdem_codelow</th>\n",
              "      <th>v2x_libdem_codehigh</th>\n",
              "      <th>v2x_libdem_sd</th>\n",
              "      <th>v2x_partipdem</th>\n",
              "      <th>v2x_partipdem_codelow</th>\n",
              "      <th>v2x_partipdem_codehigh</th>\n",
              "      <th>v2x_partipdem_sd</th>\n",
              "      <th>v2x_delibdem</th>\n",
              "      <th>v2x_delibdem_codelow</th>\n",
              "      <th>v2x_delibdem_codehigh</th>\n",
              "      <th>v2x_delibdem_sd</th>\n",
              "      <th>v2x_egaldem</th>\n",
              "      <th>v2x_egaldem_codelow</th>\n",
              "      <th>v2x_egaldem_codehigh</th>\n",
              "      <th>...</th>\n",
              "      <th>v2x_EDcomp_thick</th>\n",
              "      <th>v2x_EDcomp_thick_codelow</th>\n",
              "      <th>v2x_EDcomp_thick_codehigh</th>\n",
              "      <th>v2x_EDcomp_thick_sd</th>\n",
              "      <th>v2x_freexp</th>\n",
              "      <th>v2x_freexp_codelow</th>\n",
              "      <th>v2x_freexp_codehigh</th>\n",
              "      <th>v2x_freexp_sd</th>\n",
              "      <th>v2x_hosabort</th>\n",
              "      <th>v2x_hosinter</th>\n",
              "      <th>v2x_legabort</th>\n",
              "      <th>v2xcl_disc</th>\n",
              "      <th>v2xcl_disc_codelow</th>\n",
              "      <th>v2xcl_disc_codehigh</th>\n",
              "      <th>v2xcl_disc_sd</th>\n",
              "      <th>v2xcl_dmove</th>\n",
              "      <th>v2xcl_dmove_codelow</th>\n",
              "      <th>v2xcl_dmove_codehigh</th>\n",
              "      <th>v2xcl_dmove_sd</th>\n",
              "      <th>v2xcl_slave</th>\n",
              "      <th>v2xcl_slave_codelow</th>\n",
              "      <th>v2xcl_slave_codehigh</th>\n",
              "      <th>v2xcl_slave_sd</th>\n",
              "      <th>v2xel_elecparl</th>\n",
              "      <th>v2xel_elecpres</th>\n",
              "      <th>v2xex_elecleg</th>\n",
              "      <th>v2xlg_leginter</th>\n",
              "      <th>v2xme_altinf</th>\n",
              "      <th>v2xme_altinf_codelow</th>\n",
              "      <th>v2xme_altinf_codehigh</th>\n",
              "      <th>v2xme_altinf_sd</th>\n",
              "      <th>v2xps_party</th>\n",
              "      <th>v2xps_party_codelow</th>\n",
              "      <th>v2xps_party_codehigh</th>\n",
              "      <th>v2x_divparctrl</th>\n",
              "      <th>v2x_feduni</th>\n",
              "      <th>v2xca_academ</th>\n",
              "      <th>v2xca_academ_codelow</th>\n",
              "      <th>v2xca_academ_codehigh</th>\n",
              "      <th>v2xca_academ_sd</th>\n",
              "    </tr>\n",
              "  </thead>\n",
              "  <tbody>\n",
              "    <tr>\n",
              "      <th>0</th>\n",
              "      <td>Mexico</td>\n",
              "      <td>MEX</td>\n",
              "      <td>3</td>\n",
              "      <td>1789</td>\n",
              "      <td>1789-12-31</td>\n",
              "      <td>1</td>\n",
              "      <td>1</td>\n",
              "      <td>Viceroyalty of New Spain</td>\n",
              "      <td>1088</td>\n",
              "      <td>2019</td>\n",
              "      <td>1900.0</td>\n",
              "      <td>2019.0</td>\n",
              "      <td>1789.0</td>\n",
              "      <td>1920.0</td>\n",
              "      <td>NaN</td>\n",
              "      <td>NaN</td>\n",
              "      <td>NaN</td>\n",
              "      <td>NaN</td>\n",
              "      <td>NaN</td>\n",
              "      <td>NaN</td>\n",
              "      <td>70.0</td>\n",
              "      <td>0.031</td>\n",
              "      <td>0.021</td>\n",
              "      <td>0.039</td>\n",
              "      <td>0.01</td>\n",
              "      <td>0.043</td>\n",
              "      <td>0.029</td>\n",
              "      <td>0.055</td>\n",
              "      <td>0.013</td>\n",
              "      <td>0.008</td>\n",
              "      <td>0.001</td>\n",
              "      <td>0.012</td>\n",
              "      <td>0.009</td>\n",
              "      <td>NaN</td>\n",
              "      <td>NaN</td>\n",
              "      <td>NaN</td>\n",
              "      <td>NaN</td>\n",
              "      <td>NaN</td>\n",
              "      <td>NaN</td>\n",
              "      <td>NaN</td>\n",
              "      <td>...</td>\n",
              "      <td>0.006</td>\n",
              "      <td>0.002</td>\n",
              "      <td>0.008</td>\n",
              "      <td>0.007</td>\n",
              "      <td>0.175</td>\n",
              "      <td>0.096</td>\n",
              "      <td>0.277</td>\n",
              "      <td>0.644</td>\n",
              "      <td>0.0</td>\n",
              "      <td>0.0</td>\n",
              "      <td>0.0</td>\n",
              "      <td>0.115</td>\n",
              "      <td>0.07</td>\n",
              "      <td>0.201</td>\n",
              "      <td>0.631</td>\n",
              "      <td>0.385</td>\n",
              "      <td>0.265</td>\n",
              "      <td>0.524</td>\n",
              "      <td>0.64</td>\n",
              "      <td>0.064</td>\n",
              "      <td>0.03</td>\n",
              "      <td>0.125</td>\n",
              "      <td>0.645</td>\n",
              "      <td>0</td>\n",
              "      <td>0</td>\n",
              "      <td>0.0</td>\n",
              "      <td>0.0</td>\n",
              "      <td>0.134</td>\n",
              "      <td>0.064</td>\n",
              "      <td>0.244</td>\n",
              "      <td>0.659</td>\n",
              "      <td>NaN</td>\n",
              "      <td>NaN</td>\n",
              "      <td>NaN</td>\n",
              "      <td>NaN</td>\n",
              "      <td>0.0</td>\n",
              "      <td>NaN</td>\n",
              "      <td>NaN</td>\n",
              "      <td>NaN</td>\n",
              "      <td>NaN</td>\n",
              "    </tr>\n",
              "    <tr>\n",
              "      <th>1</th>\n",
              "      <td>Mexico</td>\n",
              "      <td>MEX</td>\n",
              "      <td>3</td>\n",
              "      <td>1790</td>\n",
              "      <td>1790-12-31</td>\n",
              "      <td>1</td>\n",
              "      <td>1</td>\n",
              "      <td>Viceroyalty of New Spain</td>\n",
              "      <td>1088</td>\n",
              "      <td>2019</td>\n",
              "      <td>1900.0</td>\n",
              "      <td>2019.0</td>\n",
              "      <td>1789.0</td>\n",
              "      <td>1920.0</td>\n",
              "      <td>NaN</td>\n",
              "      <td>NaN</td>\n",
              "      <td>NaN</td>\n",
              "      <td>NaN</td>\n",
              "      <td>NaN</td>\n",
              "      <td>NaN</td>\n",
              "      <td>70.0</td>\n",
              "      <td>0.031</td>\n",
              "      <td>0.021</td>\n",
              "      <td>0.039</td>\n",
              "      <td>0.01</td>\n",
              "      <td>0.040</td>\n",
              "      <td>0.021</td>\n",
              "      <td>0.051</td>\n",
              "      <td>0.014</td>\n",
              "      <td>0.008</td>\n",
              "      <td>0.001</td>\n",
              "      <td>0.012</td>\n",
              "      <td>0.009</td>\n",
              "      <td>NaN</td>\n",
              "      <td>NaN</td>\n",
              "      <td>NaN</td>\n",
              "      <td>NaN</td>\n",
              "      <td>NaN</td>\n",
              "      <td>NaN</td>\n",
              "      <td>NaN</td>\n",
              "      <td>...</td>\n",
              "      <td>0.006</td>\n",
              "      <td>0.002</td>\n",
              "      <td>0.008</td>\n",
              "      <td>0.007</td>\n",
              "      <td>0.175</td>\n",
              "      <td>0.096</td>\n",
              "      <td>0.277</td>\n",
              "      <td>0.644</td>\n",
              "      <td>0.0</td>\n",
              "      <td>0.0</td>\n",
              "      <td>0.0</td>\n",
              "      <td>0.115</td>\n",
              "      <td>0.07</td>\n",
              "      <td>0.201</td>\n",
              "      <td>0.631</td>\n",
              "      <td>0.385</td>\n",
              "      <td>0.265</td>\n",
              "      <td>0.524</td>\n",
              "      <td>0.64</td>\n",
              "      <td>0.064</td>\n",
              "      <td>0.03</td>\n",
              "      <td>0.125</td>\n",
              "      <td>0.645</td>\n",
              "      <td>0</td>\n",
              "      <td>0</td>\n",
              "      <td>0.0</td>\n",
              "      <td>0.0</td>\n",
              "      <td>0.134</td>\n",
              "      <td>0.064</td>\n",
              "      <td>0.244</td>\n",
              "      <td>0.659</td>\n",
              "      <td>NaN</td>\n",
              "      <td>NaN</td>\n",
              "      <td>NaN</td>\n",
              "      <td>NaN</td>\n",
              "      <td>0.0</td>\n",
              "      <td>NaN</td>\n",
              "      <td>NaN</td>\n",
              "      <td>NaN</td>\n",
              "      <td>NaN</td>\n",
              "    </tr>\n",
              "    <tr>\n",
              "      <th>2</th>\n",
              "      <td>Mexico</td>\n",
              "      <td>MEX</td>\n",
              "      <td>3</td>\n",
              "      <td>1791</td>\n",
              "      <td>1791-12-31</td>\n",
              "      <td>1</td>\n",
              "      <td>1</td>\n",
              "      <td>Viceroyalty of New Spain</td>\n",
              "      <td>1088</td>\n",
              "      <td>2019</td>\n",
              "      <td>1900.0</td>\n",
              "      <td>2019.0</td>\n",
              "      <td>1789.0</td>\n",
              "      <td>1920.0</td>\n",
              "      <td>NaN</td>\n",
              "      <td>NaN</td>\n",
              "      <td>NaN</td>\n",
              "      <td>NaN</td>\n",
              "      <td>NaN</td>\n",
              "      <td>NaN</td>\n",
              "      <td>70.0</td>\n",
              "      <td>0.031</td>\n",
              "      <td>0.021</td>\n",
              "      <td>0.039</td>\n",
              "      <td>0.01</td>\n",
              "      <td>0.040</td>\n",
              "      <td>0.021</td>\n",
              "      <td>0.051</td>\n",
              "      <td>0.014</td>\n",
              "      <td>0.008</td>\n",
              "      <td>0.001</td>\n",
              "      <td>0.012</td>\n",
              "      <td>0.009</td>\n",
              "      <td>NaN</td>\n",
              "      <td>NaN</td>\n",
              "      <td>NaN</td>\n",
              "      <td>NaN</td>\n",
              "      <td>NaN</td>\n",
              "      <td>NaN</td>\n",
              "      <td>NaN</td>\n",
              "      <td>...</td>\n",
              "      <td>0.006</td>\n",
              "      <td>0.002</td>\n",
              "      <td>0.008</td>\n",
              "      <td>0.007</td>\n",
              "      <td>0.175</td>\n",
              "      <td>0.096</td>\n",
              "      <td>0.277</td>\n",
              "      <td>0.644</td>\n",
              "      <td>0.0</td>\n",
              "      <td>0.0</td>\n",
              "      <td>0.0</td>\n",
              "      <td>0.115</td>\n",
              "      <td>0.07</td>\n",
              "      <td>0.201</td>\n",
              "      <td>0.631</td>\n",
              "      <td>0.385</td>\n",
              "      <td>0.265</td>\n",
              "      <td>0.524</td>\n",
              "      <td>0.64</td>\n",
              "      <td>0.064</td>\n",
              "      <td>0.03</td>\n",
              "      <td>0.125</td>\n",
              "      <td>0.645</td>\n",
              "      <td>0</td>\n",
              "      <td>0</td>\n",
              "      <td>0.0</td>\n",
              "      <td>0.0</td>\n",
              "      <td>0.134</td>\n",
              "      <td>0.064</td>\n",
              "      <td>0.244</td>\n",
              "      <td>0.659</td>\n",
              "      <td>NaN</td>\n",
              "      <td>NaN</td>\n",
              "      <td>NaN</td>\n",
              "      <td>NaN</td>\n",
              "      <td>0.0</td>\n",
              "      <td>NaN</td>\n",
              "      <td>NaN</td>\n",
              "      <td>NaN</td>\n",
              "      <td>NaN</td>\n",
              "    </tr>\n",
              "    <tr>\n",
              "      <th>3</th>\n",
              "      <td>Mexico</td>\n",
              "      <td>MEX</td>\n",
              "      <td>3</td>\n",
              "      <td>1792</td>\n",
              "      <td>1792-12-31</td>\n",
              "      <td>1</td>\n",
              "      <td>1</td>\n",
              "      <td>Viceroyalty of New Spain</td>\n",
              "      <td>1088</td>\n",
              "      <td>2019</td>\n",
              "      <td>1900.0</td>\n",
              "      <td>2019.0</td>\n",
              "      <td>1789.0</td>\n",
              "      <td>1920.0</td>\n",
              "      <td>NaN</td>\n",
              "      <td>NaN</td>\n",
              "      <td>NaN</td>\n",
              "      <td>NaN</td>\n",
              "      <td>NaN</td>\n",
              "      <td>NaN</td>\n",
              "      <td>70.0</td>\n",
              "      <td>0.031</td>\n",
              "      <td>0.021</td>\n",
              "      <td>0.039</td>\n",
              "      <td>0.01</td>\n",
              "      <td>0.040</td>\n",
              "      <td>0.021</td>\n",
              "      <td>0.051</td>\n",
              "      <td>0.014</td>\n",
              "      <td>0.008</td>\n",
              "      <td>0.001</td>\n",
              "      <td>0.012</td>\n",
              "      <td>0.009</td>\n",
              "      <td>NaN</td>\n",
              "      <td>NaN</td>\n",
              "      <td>NaN</td>\n",
              "      <td>NaN</td>\n",
              "      <td>NaN</td>\n",
              "      <td>NaN</td>\n",
              "      <td>NaN</td>\n",
              "      <td>...</td>\n",
              "      <td>0.006</td>\n",
              "      <td>0.002</td>\n",
              "      <td>0.008</td>\n",
              "      <td>0.007</td>\n",
              "      <td>0.175</td>\n",
              "      <td>0.096</td>\n",
              "      <td>0.277</td>\n",
              "      <td>0.644</td>\n",
              "      <td>0.0</td>\n",
              "      <td>0.0</td>\n",
              "      <td>0.0</td>\n",
              "      <td>0.115</td>\n",
              "      <td>0.07</td>\n",
              "      <td>0.201</td>\n",
              "      <td>0.631</td>\n",
              "      <td>0.385</td>\n",
              "      <td>0.265</td>\n",
              "      <td>0.524</td>\n",
              "      <td>0.64</td>\n",
              "      <td>0.064</td>\n",
              "      <td>0.03</td>\n",
              "      <td>0.125</td>\n",
              "      <td>0.645</td>\n",
              "      <td>0</td>\n",
              "      <td>0</td>\n",
              "      <td>0.0</td>\n",
              "      <td>0.0</td>\n",
              "      <td>0.134</td>\n",
              "      <td>0.064</td>\n",
              "      <td>0.244</td>\n",
              "      <td>0.659</td>\n",
              "      <td>NaN</td>\n",
              "      <td>NaN</td>\n",
              "      <td>NaN</td>\n",
              "      <td>NaN</td>\n",
              "      <td>0.0</td>\n",
              "      <td>NaN</td>\n",
              "      <td>NaN</td>\n",
              "      <td>NaN</td>\n",
              "      <td>NaN</td>\n",
              "    </tr>\n",
              "    <tr>\n",
              "      <th>4</th>\n",
              "      <td>Mexico</td>\n",
              "      <td>MEX</td>\n",
              "      <td>3</td>\n",
              "      <td>1793</td>\n",
              "      <td>1793-12-31</td>\n",
              "      <td>1</td>\n",
              "      <td>1</td>\n",
              "      <td>Viceroyalty of New Spain</td>\n",
              "      <td>1088</td>\n",
              "      <td>2019</td>\n",
              "      <td>1900.0</td>\n",
              "      <td>2019.0</td>\n",
              "      <td>1789.0</td>\n",
              "      <td>1920.0</td>\n",
              "      <td>NaN</td>\n",
              "      <td>NaN</td>\n",
              "      <td>NaN</td>\n",
              "      <td>NaN</td>\n",
              "      <td>NaN</td>\n",
              "      <td>NaN</td>\n",
              "      <td>70.0</td>\n",
              "      <td>0.031</td>\n",
              "      <td>0.021</td>\n",
              "      <td>0.039</td>\n",
              "      <td>0.01</td>\n",
              "      <td>0.040</td>\n",
              "      <td>0.021</td>\n",
              "      <td>0.051</td>\n",
              "      <td>0.014</td>\n",
              "      <td>0.008</td>\n",
              "      <td>0.001</td>\n",
              "      <td>0.012</td>\n",
              "      <td>0.009</td>\n",
              "      <td>NaN</td>\n",
              "      <td>NaN</td>\n",
              "      <td>NaN</td>\n",
              "      <td>NaN</td>\n",
              "      <td>NaN</td>\n",
              "      <td>NaN</td>\n",
              "      <td>NaN</td>\n",
              "      <td>...</td>\n",
              "      <td>0.006</td>\n",
              "      <td>0.002</td>\n",
              "      <td>0.008</td>\n",
              "      <td>0.007</td>\n",
              "      <td>0.175</td>\n",
              "      <td>0.096</td>\n",
              "      <td>0.277</td>\n",
              "      <td>0.644</td>\n",
              "      <td>0.0</td>\n",
              "      <td>0.0</td>\n",
              "      <td>0.0</td>\n",
              "      <td>0.115</td>\n",
              "      <td>0.07</td>\n",
              "      <td>0.201</td>\n",
              "      <td>0.631</td>\n",
              "      <td>0.385</td>\n",
              "      <td>0.265</td>\n",
              "      <td>0.524</td>\n",
              "      <td>0.64</td>\n",
              "      <td>0.064</td>\n",
              "      <td>0.03</td>\n",
              "      <td>0.125</td>\n",
              "      <td>0.645</td>\n",
              "      <td>0</td>\n",
              "      <td>0</td>\n",
              "      <td>0.0</td>\n",
              "      <td>0.0</td>\n",
              "      <td>0.134</td>\n",
              "      <td>0.064</td>\n",
              "      <td>0.244</td>\n",
              "      <td>0.659</td>\n",
              "      <td>NaN</td>\n",
              "      <td>NaN</td>\n",
              "      <td>NaN</td>\n",
              "      <td>NaN</td>\n",
              "      <td>0.0</td>\n",
              "      <td>NaN</td>\n",
              "      <td>NaN</td>\n",
              "      <td>NaN</td>\n",
              "      <td>NaN</td>\n",
              "    </tr>\n",
              "  </tbody>\n",
              "</table>\n",
              "<p>5 rows × 1817 columns</p>\n",
              "</div>"
            ],
            "text/plain": [
              "  country_name country_text_id  ...  v2xca_academ_codehigh  v2xca_academ_sd\n",
              "0       Mexico             MEX  ...                    NaN              NaN\n",
              "1       Mexico             MEX  ...                    NaN              NaN\n",
              "2       Mexico             MEX  ...                    NaN              NaN\n",
              "3       Mexico             MEX  ...                    NaN              NaN\n",
              "4       Mexico             MEX  ...                    NaN              NaN\n",
              "\n",
              "[5 rows x 1817 columns]"
            ]
          },
          "metadata": {
            "tags": []
          },
          "execution_count": 2
        }
      ]
    },
    {
      "cell_type": "code",
      "metadata": {
        "id": "aCznS4Fd5dYV",
        "colab_type": "code",
        "colab": {
          "base_uri": "https://localhost:8080/",
          "height": 206
        },
        "outputId": "324c2b65-3dc8-4693-fbcc-7f91042abfea"
      },
      "source": [
        "tradhist_gdppop = pd.read_excel(os.path.join(dataset_path, \"TRADHIST_GDP_POP.xlsx\"))\n",
        "tradhist_gdppop.head()"
      ],
      "execution_count": null,
      "outputs": [
        {
          "output_type": "execute_result",
          "data": {
            "text/html": [
              "<div>\n",
              "<style scoped>\n",
              "    .dataframe tbody tr th:only-of-type {\n",
              "        vertical-align: middle;\n",
              "    }\n",
              "\n",
              "    .dataframe tbody tr th {\n",
              "        vertical-align: top;\n",
              "    }\n",
              "\n",
              "    .dataframe thead th {\n",
              "        text-align: right;\n",
              "    }\n",
              "</style>\n",
              "<table border=\"1\" class=\"dataframe\">\n",
              "  <thead>\n",
              "    <tr style=\"text-align: right;\">\n",
              "      <th></th>\n",
              "      <th>iso</th>\n",
              "      <th>year</th>\n",
              "      <th>GDP</th>\n",
              "      <th>SOURCE_GDP</th>\n",
              "      <th>POP</th>\n",
              "      <th>SOURCE_POP</th>\n",
              "      <th>SOURCE_SH_PRIM</th>\n",
              "      <th>SOURCE_SH_SECD</th>\n",
              "      <th>SH_PRIM</th>\n",
              "      <th>SH_SECD</th>\n",
              "    </tr>\n",
              "  </thead>\n",
              "  <tbody>\n",
              "    <tr>\n",
              "      <th>0</th>\n",
              "      <td>MMR</td>\n",
              "      <td>1827</td>\n",
              "      <td>NaN</td>\n",
              "      <td>NaN</td>\n",
              "      <td>3605.399902</td>\n",
              "      <td>MADDISON_IPO</td>\n",
              "      <td>NaN</td>\n",
              "      <td>NaN</td>\n",
              "      <td>NaN</td>\n",
              "      <td>NaN</td>\n",
              "    </tr>\n",
              "    <tr>\n",
              "      <th>1</th>\n",
              "      <td>SOM</td>\n",
              "      <td>1827</td>\n",
              "      <td>NaN</td>\n",
              "      <td>NaN</td>\n",
              "      <td>1077.427124</td>\n",
              "      <td>MADDISON_IPO</td>\n",
              "      <td>NaN</td>\n",
              "      <td>NaN</td>\n",
              "      <td>NaN</td>\n",
              "      <td>NaN</td>\n",
              "    </tr>\n",
              "    <tr>\n",
              "      <th>2</th>\n",
              "      <td>ADEN</td>\n",
              "      <td>1827</td>\n",
              "      <td>NaN</td>\n",
              "      <td>NaN</td>\n",
              "      <td>2627.580078</td>\n",
              "      <td>MADDISON_IPO</td>\n",
              "      <td>NaN</td>\n",
              "      <td>NaN</td>\n",
              "      <td>NaN</td>\n",
              "      <td>NaN</td>\n",
              "    </tr>\n",
              "    <tr>\n",
              "      <th>3</th>\n",
              "      <td>MOZ</td>\n",
              "      <td>1827</td>\n",
              "      <td>NaN</td>\n",
              "      <td>NaN</td>\n",
              "      <td>2319.700684</td>\n",
              "      <td>MADDISON_IPO</td>\n",
              "      <td>NaN</td>\n",
              "      <td>NaN</td>\n",
              "      <td>NaN</td>\n",
              "      <td>NaN</td>\n",
              "    </tr>\n",
              "    <tr>\n",
              "      <th>4</th>\n",
              "      <td>PRI</td>\n",
              "      <td>1827</td>\n",
              "      <td>NaN</td>\n",
              "      <td>NaN</td>\n",
              "      <td>305.633331</td>\n",
              "      <td>MADDISON_IPO</td>\n",
              "      <td>NaN</td>\n",
              "      <td>NaN</td>\n",
              "      <td>NaN</td>\n",
              "      <td>NaN</td>\n",
              "    </tr>\n",
              "  </tbody>\n",
              "</table>\n",
              "</div>"
            ],
            "text/plain": [
              "    iso  year  GDP SOURCE_GDP  ...  SOURCE_SH_PRIM SOURCE_SH_SECD SH_PRIM SH_SECD\n",
              "0   MMR  1827  NaN        NaN  ...             NaN            NaN     NaN     NaN\n",
              "1   SOM  1827  NaN        NaN  ...             NaN            NaN     NaN     NaN\n",
              "2  ADEN  1827  NaN        NaN  ...             NaN            NaN     NaN     NaN\n",
              "3   MOZ  1827  NaN        NaN  ...             NaN            NaN     NaN     NaN\n",
              "4   PRI  1827  NaN        NaN  ...             NaN            NaN     NaN     NaN\n",
              "\n",
              "[5 rows x 10 columns]"
            ]
          },
          "metadata": {
            "tags": []
          },
          "execution_count": 3
        }
      ]
    },
    {
      "cell_type": "code",
      "metadata": {
        "id": "ZoTWmHxV9mQu",
        "colab_type": "code",
        "colab": {
          "base_uri": "https://localhost:8080/",
          "height": 206
        },
        "outputId": "faf01f58-d5b1-4378-e04a-4fc58bd263cf"
      },
      "source": [
        "# now we load the time invariant bilateral data from the CEPII TradHist dataset\n",
        "tradhist_timeinvar = pd.read_excel(os.path.join(dataset_path, \"TRADHIST_GRAVITY_BILATERAL_TIME_INVARIANT.xlsx\"))\n",
        "tradhist_timeinvar.head()"
      ],
      "execution_count": null,
      "outputs": [
        {
          "output_type": "execute_result",
          "data": {
            "text/html": [
              "<div>\n",
              "<style scoped>\n",
              "    .dataframe tbody tr th:only-of-type {\n",
              "        vertical-align: middle;\n",
              "    }\n",
              "\n",
              "    .dataframe tbody tr th {\n",
              "        vertical-align: top;\n",
              "    }\n",
              "\n",
              "    .dataframe thead th {\n",
              "        text-align: right;\n",
              "    }\n",
              "</style>\n",
              "<table border=\"1\" class=\"dataframe\">\n",
              "  <thead>\n",
              "    <tr style=\"text-align: right;\">\n",
              "      <th></th>\n",
              "      <th>iso_o</th>\n",
              "      <th>iso_d</th>\n",
              "      <th>Distw</th>\n",
              "      <th>Dist_coord</th>\n",
              "      <th>Evercol</th>\n",
              "      <th>Comlang</th>\n",
              "      <th>Contig</th>\n",
              "    </tr>\n",
              "  </thead>\n",
              "  <tbody>\n",
              "    <tr>\n",
              "      <th>0</th>\n",
              "      <td>2SICIL</td>\n",
              "      <td>AUTHUN</td>\n",
              "      <td>NaN</td>\n",
              "      <td>837.066180</td>\n",
              "      <td>0</td>\n",
              "      <td>0</td>\n",
              "      <td>0</td>\n",
              "    </tr>\n",
              "    <tr>\n",
              "      <th>1</th>\n",
              "      <td>2SICIL</td>\n",
              "      <td>BEL</td>\n",
              "      <td>NaN</td>\n",
              "      <td>1349.682430</td>\n",
              "      <td>0</td>\n",
              "      <td>0</td>\n",
              "      <td>0</td>\n",
              "    </tr>\n",
              "    <tr>\n",
              "      <th>2</th>\n",
              "      <td>2SICIL</td>\n",
              "      <td>CHL</td>\n",
              "      <td>NaN</td>\n",
              "      <td>11978.672481</td>\n",
              "      <td>0</td>\n",
              "      <td>0</td>\n",
              "      <td>0</td>\n",
              "    </tr>\n",
              "    <tr>\n",
              "      <th>3</th>\n",
              "      <td>2SICIL</td>\n",
              "      <td>ESP</td>\n",
              "      <td>NaN</td>\n",
              "      <td>1514.852764</td>\n",
              "      <td>0</td>\n",
              "      <td>0</td>\n",
              "      <td>0</td>\n",
              "    </tr>\n",
              "    <tr>\n",
              "      <th>4</th>\n",
              "      <td>2SICIL</td>\n",
              "      <td>FRA</td>\n",
              "      <td>NaN</td>\n",
              "      <td>1291.794085</td>\n",
              "      <td>0</td>\n",
              "      <td>0</td>\n",
              "      <td>0</td>\n",
              "    </tr>\n",
              "  </tbody>\n",
              "</table>\n",
              "</div>"
            ],
            "text/plain": [
              "    iso_o   iso_d  Distw    Dist_coord  Evercol  Comlang  Contig\n",
              "0  2SICIL  AUTHUN    NaN    837.066180        0        0       0\n",
              "1  2SICIL     BEL    NaN   1349.682430        0        0       0\n",
              "2  2SICIL     CHL    NaN  11978.672481        0        0       0\n",
              "3  2SICIL     ESP    NaN   1514.852764        0        0       0\n",
              "4  2SICIL     FRA    NaN   1291.794085        0        0       0"
            ]
          },
          "metadata": {
            "tags": []
          },
          "execution_count": 4
        }
      ]
    },
    {
      "cell_type": "code",
      "metadata": {
        "id": "xklb6hvtDGIa",
        "colab_type": "code",
        "colab": {
          "base_uri": "https://localhost:8080/",
          "height": 206
        },
        "outputId": "d09b1d9d-5c93-4813-c77b-a5dbf1bd8a18"
      },
      "source": [
        "# then load the three files that constitute the bilateral historical non trade related data such as distances between countries and colonial status\n",
        "tradhist_timevar_frames = []\n",
        "for idx in range(1, 4):\n",
        "    tradhist_timevar_frames.append(pd.read_excel(os.path.join(dataset_path, \"TRADHIST_GRAVITY_BILATERAL_TIME_VARIANT_{}.xlsx\".format(idx))))\n",
        "tradhist_timevar = pd.concat(tradhist_timevar_frames)\n",
        "tradhist_timevar.head()"
      ],
      "execution_count": null,
      "outputs": [
        {
          "output_type": "execute_result",
          "data": {
            "text/html": [
              "<div>\n",
              "<style scoped>\n",
              "    .dataframe tbody tr th:only-of-type {\n",
              "        vertical-align: middle;\n",
              "    }\n",
              "\n",
              "    .dataframe tbody tr th {\n",
              "        vertical-align: top;\n",
              "    }\n",
              "\n",
              "    .dataframe thead th {\n",
              "        text-align: right;\n",
              "    }\n",
              "</style>\n",
              "<table border=\"1\" class=\"dataframe\">\n",
              "  <thead>\n",
              "    <tr style=\"text-align: right;\">\n",
              "      <th></th>\n",
              "      <th>iso_o</th>\n",
              "      <th>iso_d</th>\n",
              "      <th>year</th>\n",
              "      <th>SeaDist_SHRT</th>\n",
              "      <th>SeaDist_2CST</th>\n",
              "      <th>Curcol</th>\n",
              "      <th>Metro</th>\n",
              "      <th>Colo</th>\n",
              "    </tr>\n",
              "  </thead>\n",
              "  <tbody>\n",
              "    <tr>\n",
              "      <th>0</th>\n",
              "      <td>2SICIL</td>\n",
              "      <td>AUTHUN</td>\n",
              "      <td>1838</td>\n",
              "      <td>1790.884033</td>\n",
              "      <td>1790.884033</td>\n",
              "      <td>0</td>\n",
              "      <td>NaN</td>\n",
              "      <td>NaN</td>\n",
              "    </tr>\n",
              "    <tr>\n",
              "      <th>1</th>\n",
              "      <td>2SICIL</td>\n",
              "      <td>BEL</td>\n",
              "      <td>1834</td>\n",
              "      <td>4463.319824</td>\n",
              "      <td>4463.319824</td>\n",
              "      <td>0</td>\n",
              "      <td>NaN</td>\n",
              "      <td>NaN</td>\n",
              "    </tr>\n",
              "    <tr>\n",
              "      <th>2</th>\n",
              "      <td>2SICIL</td>\n",
              "      <td>BEL</td>\n",
              "      <td>1835</td>\n",
              "      <td>4463.319824</td>\n",
              "      <td>4463.319824</td>\n",
              "      <td>0</td>\n",
              "      <td>NaN</td>\n",
              "      <td>NaN</td>\n",
              "    </tr>\n",
              "    <tr>\n",
              "      <th>3</th>\n",
              "      <td>2SICIL</td>\n",
              "      <td>BEL</td>\n",
              "      <td>1836</td>\n",
              "      <td>4463.319824</td>\n",
              "      <td>4463.319824</td>\n",
              "      <td>0</td>\n",
              "      <td>NaN</td>\n",
              "      <td>NaN</td>\n",
              "    </tr>\n",
              "    <tr>\n",
              "      <th>4</th>\n",
              "      <td>2SICIL</td>\n",
              "      <td>BEL</td>\n",
              "      <td>1837</td>\n",
              "      <td>4463.319824</td>\n",
              "      <td>4463.319824</td>\n",
              "      <td>0</td>\n",
              "      <td>NaN</td>\n",
              "      <td>NaN</td>\n",
              "    </tr>\n",
              "  </tbody>\n",
              "</table>\n",
              "</div>"
            ],
            "text/plain": [
              "    iso_o   iso_d  year  SeaDist_SHRT  SeaDist_2CST  Curcol Metro Colo\n",
              "0  2SICIL  AUTHUN  1838   1790.884033   1790.884033       0   NaN  NaN\n",
              "1  2SICIL     BEL  1834   4463.319824   4463.319824       0   NaN  NaN\n",
              "2  2SICIL     BEL  1835   4463.319824   4463.319824       0   NaN  NaN\n",
              "3  2SICIL     BEL  1836   4463.319824   4463.319824       0   NaN  NaN\n",
              "4  2SICIL     BEL  1837   4463.319824   4463.319824       0   NaN  NaN"
            ]
          },
          "metadata": {
            "tags": []
          },
          "execution_count": 5
        }
      ]
    },
    {
      "cell_type": "code",
      "metadata": {
        "id": "W3Kl0JiJIHWL",
        "colab_type": "code",
        "colab": {
          "base_uri": "https://localhost:8080/",
          "height": 206
        },
        "outputId": "7aa78f10-7e10-4f1a-ab5a-ceeb49766392"
      },
      "source": [
        "tradhist_bitrade_frames = []\n",
        "for idx in range(1, 4):\n",
        "    tradhist_bitrade_frames.append(pd.read_excel(os.path.join(dataset_path, \"TRADHIST_BITRADE_BITARIFF_{}.xlsx\".format(idx))))\n",
        "tradhist_bitrade = pd.concat(tradhist_bitrade_frames)\n",
        "tradhist_bitrade.head()"
      ],
      "execution_count": null,
      "outputs": [
        {
          "output_type": "execute_result",
          "data": {
            "text/html": [
              "<div>\n",
              "<style scoped>\n",
              "    .dataframe tbody tr th:only-of-type {\n",
              "        vertical-align: middle;\n",
              "    }\n",
              "\n",
              "    .dataframe tbody tr th {\n",
              "        vertical-align: top;\n",
              "    }\n",
              "\n",
              "    .dataframe thead th {\n",
              "        text-align: right;\n",
              "    }\n",
              "</style>\n",
              "<table border=\"1\" class=\"dataframe\">\n",
              "  <thead>\n",
              "    <tr style=\"text-align: right;\">\n",
              "      <th></th>\n",
              "      <th>iso_o</th>\n",
              "      <th>iso_d</th>\n",
              "      <th>year</th>\n",
              "      <th>FLOW</th>\n",
              "      <th>FLOW_0</th>\n",
              "      <th>SOURCE_TF</th>\n",
              "      <th>BITARIFF</th>\n",
              "    </tr>\n",
              "  </thead>\n",
              "  <tbody>\n",
              "    <tr>\n",
              "      <th>0</th>\n",
              "      <td>2SICIL</td>\n",
              "      <td>AUTHUN</td>\n",
              "      <td>1838</td>\n",
              "      <td>492920.687500</td>\n",
              "      <td>NaN</td>\n",
              "      <td>RIC_IP</td>\n",
              "      <td>NaN</td>\n",
              "    </tr>\n",
              "    <tr>\n",
              "      <th>1</th>\n",
              "      <td>2SICIL</td>\n",
              "      <td>BEL</td>\n",
              "      <td>1834</td>\n",
              "      <td>38164.500000</td>\n",
              "      <td>NaN</td>\n",
              "      <td>RIC_IP</td>\n",
              "      <td>NaN</td>\n",
              "    </tr>\n",
              "    <tr>\n",
              "      <th>2</th>\n",
              "      <td>2SICIL</td>\n",
              "      <td>BEL</td>\n",
              "      <td>1835</td>\n",
              "      <td>30052.339844</td>\n",
              "      <td>NaN</td>\n",
              "      <td>RIC_IP</td>\n",
              "      <td>NaN</td>\n",
              "    </tr>\n",
              "    <tr>\n",
              "      <th>3</th>\n",
              "      <td>2SICIL</td>\n",
              "      <td>BEL</td>\n",
              "      <td>1836</td>\n",
              "      <td>44906.539062</td>\n",
              "      <td>NaN</td>\n",
              "      <td>RIC_IP</td>\n",
              "      <td>NaN</td>\n",
              "    </tr>\n",
              "    <tr>\n",
              "      <th>4</th>\n",
              "      <td>2SICIL</td>\n",
              "      <td>BEL</td>\n",
              "      <td>1837</td>\n",
              "      <td>33957.269531</td>\n",
              "      <td>NaN</td>\n",
              "      <td>RIC_IP</td>\n",
              "      <td>NaN</td>\n",
              "    </tr>\n",
              "  </tbody>\n",
              "</table>\n",
              "</div>"
            ],
            "text/plain": [
              "    iso_o   iso_d  year           FLOW  FLOW_0 SOURCE_TF  BITARIFF\n",
              "0  2SICIL  AUTHUN  1838  492920.687500     NaN    RIC_IP       NaN\n",
              "1  2SICIL     BEL  1834   38164.500000     NaN    RIC_IP       NaN\n",
              "2  2SICIL     BEL  1835   30052.339844     NaN    RIC_IP       NaN\n",
              "3  2SICIL     BEL  1836   44906.539062     NaN    RIC_IP       NaN\n",
              "4  2SICIL     BEL  1837   33957.269531     NaN    RIC_IP       NaN"
            ]
          },
          "metadata": {
            "tags": []
          },
          "execution_count": 6
        }
      ]
    },
    {
      "cell_type": "markdown",
      "metadata": {
        "id": "8Agoze7A6DWB",
        "colab_type": "text"
      },
      "source": [
        "Previous studies how shown that geographical closeness and colonizer/colony status affects the diffusion of democracy. It seems likely following from this that trade would result in some democratization diffusion effect also."
      ]
    },
    {
      "cell_type": "code",
      "metadata": {
        "id": "sf9e5qjL6uah",
        "colab_type": "code",
        "colab": {
          "base_uri": "https://localhost:8080/",
          "height": 276
        },
        "outputId": "60a2147d-a519-4c01-fd64-471e2bca54f2"
      },
      "source": [
        "# TradHist dataset has data for USSR separate than from Russia\n",
        "# USA : USA\n",
        "# Russia: RUS, USSR (VDem uses RUS only, TradHist uses RUS and USSR)\n",
        "colours = ['r', 'b']\n",
        "\n",
        "# get high level indicators of democracy\n",
        "ctry_demind = {}\n",
        "ctry_demind[\"USA\"] = vdem_nodes[(vdem_nodes['country_text_id'] == \"USA\") & (vdem_nodes['year'] >= vdem_nodes['codingstart_contemp'])][['year', 'v2x_libdem']]\n",
        "ctry_demind[\"RUS\"] = vdem_nodes[(vdem_nodes['country_text_id'] == \"RUS\") & (vdem_nodes['year'] >= vdem_nodes['codingstart_contemp'])][['year', 'v2x_libdem']]\n",
        "\n",
        "\n",
        "# get imports of one country from the other\n",
        "ctry_trade = {}\n",
        "ctry_trade[\"USA\"] = tradhist_bitrade[((tradhist_bitrade['iso_o'] == \"RUS\") | (tradhist_bitrade['iso_o'] == \"USSR\"))\n",
        "                                     & (tradhist_bitrade['iso_d'] == \"USA\") \n",
        "                                     & (tradhist_bitrade['year'] >= 1900)][['year', 'FLOW']].sort_values(by=['year'])\n",
        "ctry_trade[\"RUS\"] = tradhist_bitrade[(tradhist_bitrade['iso_o'] == \"USA\")\n",
        "                                     & ((tradhist_bitrade['iso_d'] == \"RUS\") | (tradhist_bitrade['iso_d'] == \"USSR\"))\n",
        "                                     & (tradhist_bitrade['year'] >= 1900)][['year', 'FLOW']].sort_values(by=['year'])\n",
        "\n",
        "# plot the data\n",
        "fig, ax1 = plt.subplots()\n",
        "ax2 = ax1.twinx()\n",
        "\n",
        "ax1.plot(ctry_demind[\"USA\"].values[:, 0], ctry_demind[\"USA\"].values[:, 1], 'b-', label=\"USA Liberal Democracy Index\")\n",
        "ax2.plot(ctry_trade[\"USA\"].values[:, 0], ctry_trade[\"USA\"].values[:, 1], 'b--', label=\"Imports from Russia to the USA\")\n",
        "ax1.plot(ctry_demind[\"RUS\"].values[:, 0], ctry_demind[\"RUS\"].values[:, 1], 'r-', label=\"Russia Liberal Democracy Index\")\n",
        "ax2.plot(ctry_trade[\"RUS\"].values[:, 0], ctry_trade[\"RUS\"].values[:, 1], 'r--', label=\"Imports from the USA to Russia\")\n",
        "\n",
        "ax1.legend(loc = \"upper left\")\n",
        "ax2.legend(loc = \"upper right\")\n",
        "plt.show()"
      ],
      "execution_count": null,
      "outputs": [
        {
          "output_type": "display_data",
          "data": {
            "image/png": "[encoded data removed]",
            "text/plain": [
              "<Figure size 432x288 with 2 Axes>"
            ]
          },
          "metadata": {
            "tags": [],
            "needs_background": "light"
          }
        }
      ]
    },
    {
      "cell_type": "markdown",
      "metadata": {
        "id": "VPU1rjWGvJ-_",
        "colab_type": "text"
      },
      "source": [
        "The figure seems to show some non-linear relationship between trade and liberal democracy index. The casuality direction of this is not clear however."
      ]
    },
    {
      "cell_type": "markdown",
      "metadata": {
        "id": "bA5q_mFCSW7j",
        "colab_type": "text"
      },
      "source": [
        "These figures show us that normalising the trade data will be important to prevent any relationships being overshadowed by GDP growth, even if GDP growth will likely be another key factor that affects democratization. We will therefore be using GDP and population as a node feature, and normalising trade data by the GDP of a country at that time."
      ]
    },
    {
      "cell_type": "code",
      "metadata": {
        "id": "GbsJzgem6EKw",
        "colab_type": "code",
        "colab": {
          "base_uri": "https://localhost:8080/",
          "height": 265
        },
        "outputId": "07b83e96-6e95-40cc-cdca-cd9691079a37"
      },
      "source": [
        "ctry_gdp_trade = {}\n",
        "usa_gdp = tradhist_gdppop[(tradhist_gdppop['iso'] == 'USA') & (tradhist_gdppop['year'] >= 1900)][['year', 'GDP']].sort_values(by=['year'])\n",
        "ctry_gdp_trade['USA'] = pd.merge(usa_gdp, ctry_trade['USA'], how='inner')\n",
        "rus_gdp = tradhist_gdppop[((tradhist_gdppop['iso'] == 'RUS') | (tradhist_gdppop['iso'] == 'USSR')) & (tradhist_gdppop['year'] >= 1900)][['year', 'GDP']].sort_values(by=['year'])\n",
        "ctry_gdp_trade['RUS'] = pd.merge(rus_gdp, ctry_trade['RUS'], how='inner')\n",
        "\n",
        "# plot the data\n",
        "fig, ax1 = plt.subplots()\n",
        "ax2 = ax1.twinx()\n",
        "\n",
        "ax1.plot(ctry_demind[\"USA\"].values[:, 0], ctry_demind[\"USA\"].values[:, 1], 'b-', label=\"USA Liberal Democracy Index\")\n",
        "ax2.plot(ctry_gdp_trade[\"USA\"][['year']].values[:, 0], ctry_gdp_trade[\"USA\"][['FLOW']].values[:, 0] / ctry_gdp_trade[\"USA\"][['GDP']].values[:, 0], 'b--', label=\"GDP normalised imports from Russia to the USA\")\n",
        "ax1.plot(ctry_demind[\"RUS\"].values[:, 0], ctry_demind[\"RUS\"].values[:, 1], 'r-', label=\"Russia Liberal Democracy Index\")\n",
        "ax2.plot(ctry_gdp_trade[\"RUS\"][['year']].values[:, 0], ctry_gdp_trade[\"RUS\"][['FLOW']].values[:, 0] / ctry_gdp_trade[\"RUS\"][['GDP']].values[:, 0], 'r--', label=\"GDP normalised imports from the USA to Russia\")\n",
        "\n",
        "ax1.legend(loc = \"upper left\")\n",
        "ax2.legend(loc = \"upper right\")\n",
        "plt.show()"
      ],
      "execution_count": null,
      "outputs": [
        {
          "output_type": "display_data",
          "data": {
            "image/png": "[encoded data removed]",
            "text/plain": [
              "<Figure size 432x288 with 2 Axes>"
            ]
          },
          "metadata": {
            "tags": [],
            "needs_background": "light"
          }
        }
      ]
    },
    {
      "cell_type": "markdown",
      "metadata": {
        "id": "g1DmuOhCX0oJ",
        "colab_type": "text"
      },
      "source": [
        "This normalised data does seems to show a significant correlation between Russian imports of American goods with democratization."
      ]
    },
    {
      "cell_type": "markdown",
      "metadata": {
        "id": "XiIfULs5xSfQ",
        "colab_type": "text"
      },
      "source": [
        "We now need to find a way of linking the two datasets. The trade history dataset uses the ISO country codes. However the V-Dem dataset seems to have its own country numbering system, and the three letter shortened name isn't specified in the reference manual to be the ISO name. Lets look at the union of the country codes for the two datasets and the country codes which are unique to each dataset."
      ]
    },
    {
      "cell_type": "code",
      "metadata": {
        "id": "sogvaCPSzEOU",
        "colab_type": "code",
        "colab": {
          "base_uri": "https://localhost:8080/",
          "height": 451
        },
        "outputId": "4f7da046-5166-4c72-baea-e9bc03c219dd"
      },
      "source": [
        "vdem_country_codes = set(vdem_nodes['country_text_id'].unique())\n",
        "tradhist_country_codes = set(tradhist_timevar['iso_o'].unique())\n",
        "shared_codes = vdem_country_codes & tradhist_country_codes\n",
        "vdem_unique_codes = vdem_country_codes - shared_codes\n",
        "tradhist_unique_codes = tradhist_country_codes - shared_codes\n",
        "\n",
        "def print_set(code_set, per_line = 20):\n",
        "    code_ordered = sorted(list(code_set))\n",
        "    for i in range(0, len(code_ordered), per_line):\n",
        "        print(code_ordered[i:i + per_line])\n",
        "\n",
        "print(\"Shared Country Codes:\")\n",
        "print_set(shared_codes)\n",
        "print()\n",
        "print(\"VDem Only Country Codes:\")\n",
        "print_set(vdem_unique_codes)\n",
        "print()\n",
        "print(\"TradHist Only Country Codes:\")\n",
        "print_set(tradhist_unique_codes)\n",
        "print()\n"
      ],
      "execution_count": null,
      "outputs": [
        {
          "output_type": "stream",
          "text": [
            "Shared Country Codes:\n",
            "['AFG', 'AGO', 'ALB', 'ARE', 'ARG', 'ARM', 'AUS', 'AUT', 'AZE', 'BDI', 'BEL', 'BEN', 'BFA', 'BGD', 'BGR', 'BHR', 'BIH', 'BLR', 'BOL', 'BRA']\n",
            "['BRB', 'BTN', 'BWA', 'CAF', 'CAN', 'CHE', 'CHL', 'CHN', 'CIV', 'CMR', 'COD', 'COG', 'COL', 'COM', 'CPV', 'CRI', 'CUB', 'CYP', 'CZE', 'DEU']\n",
            "['DJI', 'DNK', 'DOM', 'DZA', 'ECU', 'EGY', 'ERI', 'ESP', 'EST', 'ETH', 'FIN', 'FJI', 'FRA', 'GAB', 'GBR', 'GEO', 'GHA', 'GIN', 'GMB', 'GNB']\n",
            "['GNQ', 'GRC', 'GTM', 'GUY', 'HKG', 'HND', 'HRV', 'HTI', 'HUN', 'IDN', 'IND', 'IRL', 'IRN', 'IRQ', 'ISL', 'ISR', 'ITA', 'JAM', 'JOR', 'JPN']\n",
            "['KAZ', 'KEN', 'KGZ', 'KHM', 'KOR', 'KWT', 'LAO', 'LBN', 'LBR', 'LBY', 'LKA', 'LSO', 'LTU', 'LUX', 'LVA', 'MAR', 'MDA', 'MDG', 'MDV', 'MEX']\n",
            "['MKD', 'MLI', 'MLT', 'MMR', 'MNE', 'MNG', 'MOZ', 'MRT', 'MUS', 'MWI', 'MYS', 'NAM', 'NER', 'NGA', 'NIC', 'NLD', 'NOR', 'NPL', 'NZL', 'OMN']\n",
            "['PAK', 'PAN', 'PER', 'PHL', 'PNG', 'POL', 'PRK', 'PRT', 'PRY', 'QAT', 'RUS', 'RWA', 'SAU', 'SDN', 'SEN', 'SGP', 'SLB', 'SLE', 'SLV', 'SOM']\n",
            "['SRB', 'STP', 'SUR', 'SVK', 'SVN', 'SWE', 'SWZ', 'SYC', 'SYR', 'TCD', 'TGO', 'THA', 'TJK', 'TKM', 'TLS', 'TTO', 'TUN', 'TUR', 'TWN', 'TZA']\n",
            "['UGA', 'UKR', 'URY', 'USA', 'UZB', 'VEN', 'VNM', 'VUT', 'YEM', 'YMD', 'ZAF', 'ZMB', 'ZWE']\n",
            "\n",
            "VDem Only Country Codes:\n",
            "['BDN', 'BRW', 'BVR', 'DDR', 'HDM', 'HKS', 'HRG', 'HVR', 'MCL', 'MDN', 'NSS', 'OLD', 'PPS', 'PRM', 'PSB', 'PSE', 'PSG', 'ROU', 'SAX', 'SML']\n",
            "['SPD', 'SSD', 'SXN', 'TSC', 'TWS', 'VDR', 'WRG', 'XKX', 'ZZB']\n",
            "\n",
            "TradHist Only Country Codes:\n",
            "['2SICIL', 'ABW', 'ADEN', 'ALASKA', 'ALSLOR', 'AND', 'ANT', 'AOFAEF', 'ASM', 'ATG', 'AUSNSW', 'AUSQUE', 'AUSSTH', 'AUSTAS', 'AUSVIC', 'AUSWST', 'AUTHUN', 'AZORES', 'BARBAR', 'BHS']\n",
            "['BLM', 'BLZ', 'BMU', 'BREMEN', 'BRN', 'CANARY', 'CANPRINCED', 'CANQBCONT', 'CCK', 'CHISL', 'COK', 'CUW', 'CXR', 'CYM', 'CZSK', 'DANTZ', 'DEUAFRI', 'DEUNEWGUI', 'DEUWAF', 'DMA']\n",
            "['EDEU', 'ESH', 'FEDMYS', 'FIUME', 'FLK', 'FRAAEF', 'FRAAFRI', 'FRAAOF', 'FRAEAFRI', 'FRAIND', 'FRAOCEA', 'FRAWINDIES', 'FRO', 'FSM', 'GBRAFRI', 'GBRBORNEO', 'GBRIND', 'GBRMEDI', 'GBRPAPUA', 'GBRSOM']\n",
            "['GBRWAFRI', 'GBRWINDIES', 'GEL', 'GIB', 'GLP', 'GRD', 'GRL', 'GUF', 'GUM', 'HAMBG', 'HANOV', 'HANS', 'HWI', 'INDOCHI', 'ITAEAFRI', 'ITASOM', 'KIR', 'KNA', 'KWANTU', 'LCA']\n",
            "['LIE', 'LUBECK', 'MAC', 'MADEIRA', 'MANCHU', 'MARESP', 'MCO', 'MECKL', 'MHL', 'MTQ', 'MYT', 'NCL', 'NFK', 'NFLD', 'NRU', 'OLDENB', 'OTTO', 'PCN', 'PLW', 'PRI']\n",
            "['PRTAFRI', 'PRTIND', 'PRTWAFRI', 'PRUS', 'PYF', 'REU', 'RHOD', 'ROM', 'ROME', 'RWABDI', 'SARD', 'SARRE', 'SCHLES', 'SGS', 'SHN', 'SMR', 'SPM', 'STRAITS', 'SWENOR', 'SYRLBN']\n",
            "['TANGER', 'TCA', 'TEXAS', 'TGOCMR', 'TON', 'TRIEST', 'TUSC', 'TUV', 'UKNLD', 'ULSTER', 'UNFEDMYS', 'USSR', 'VAT', 'VCT', 'VIR', 'WDEU', 'WLF', 'WSM', 'YAR', 'YUG']\n",
            "['ZAFCAP', 'ZAFNAT', 'ZAFORA', 'ZAFTRA', 'ZANZ', 'ZOLL']\n",
            "\n"
          ],
          "name": "stdout"
        }
      ]
    },
    {
      "cell_type": "markdown",
      "metadata": {
        "id": "-xzX42cQYSSe",
        "colab_type": "text"
      },
      "source": [
        "The major difference seems to be that the V-Dem dataset uses a consistent code for the varying regimes of a 'country', compared to the CEPII dataset using for example USSR for the Soviet Union instead of continuing to use RUS. We need to find if there are any other examples of this and create a mapping system. We will not include trade participants from the trade dataset that are current subareas of sovereignties, as they provide no additional data to correlate with nation democratization given that their owning sovereignty is already featured in the dataset. However we will lump together formerly separate sovereignties that have no additional coding in the V-Dem dataset, such as Prince Edward Island and Canada.\n",
        "\n",
        "For former countries that cover the land of multiple modern countries, we will associate the trade of those countries at the time with all of the modern countries in their former land area."
      ]
    },
    {
      "cell_type": "code",
      "metadata": {
        "id": "pizS4fVTbTNi",
        "colab_type": "code",
        "colab": {
          "base_uri": "https://localhost:8080/",
          "height": 358
        },
        "outputId": "a87277db-50b3-4ef4-d5a6-6027f096af86"
      },
      "source": [
        "def get_mapping():    \n",
        "    mapped_codes = [['RUS', 'USSR'], ['YEM', 'ADEN'], ['CAF', 'AOFAEF', 'FRAAEF'], ['TCD', 'AOFAEF', 'FRAAEF'], ['COD', 'AOFAEF', 'FRAAEF'], ['HRV', 'AUTHUN', 'YUG'], ['SVK', 'CZSK', 'AUTHUN'], \n",
        "                ['SVN', 'AUTHUN', 'YUG'], ['UKR', 'AUTHUN', 'USSR'], ['ALB', 'AUTHUN'], ['BIH', 'AUTHUN', 'YUG'], ['MNE', 'AUTHUN', 'YUG'], ['CAN', 'CANPRINCED', 'CANQBCONT', 'NFLD'], \n",
        "                ['CZE', 'CZSK', 'AUTHUN'], ['DDR', 'EDEU'], ['MYS', 'FEDMYS', 'UNFEDMYS', 'GBRBORNEO'], ['BFA', 'FRAAOF'], ['GNQ', 'FRAAOF'], ['LUX', 'ZOLL'], \n",
        "                ['ZZB', 'ZANZ', 'GBRAFRI'], ['ZAF', 'ZAFTRA', 'ZAFORA', 'ZAFNAT', 'ZAPCAF', 'GBRAFRI'], ['MKD', 'YUG'], ['SRB', 'YUG'], ['POL', 'USSR'], ['COM', 'MYT'], ['ROM', 'ROU'], \n",
        "                ['MWI', 'RHOD', 'GBRAFRI'], ['ZMB', 'RHOD', 'GBRAFRI'], ['ZWE', 'RHOD', 'GBRAFRI'], ['SGP', 'STRAITS'], ['DEU', 'WDEU'], ['SML', 'GBRSOM', 'ITASOM'], ['GBR', 'ULSTER'], \n",
        "                ['RWA', 'RWABDI'], ['SOM', 'ITASOM'], ['MAR', 'MARESP'], ['FRA', 'OLDENB'], ['DNK', 'SCHLES'], ['LBN', 'SYRLBN', 'OTTO'], ['SYR', 'SYRLBN'], ['CYP', 'OTTO', 'GBRMEDI'], \n",
        "                ['TUR', 'OTTO'], ['STP', 'PRTAFRI'], ['AGO', 'PRTAFRI'], ['MOZ', 'PRTAFRI'], ['GNB', 'PRTWAFRI'], ['KHM', 'INDOCHI'], ['LAO', 'INDOCHI'], ['VNM', 'INDOCHI'], \n",
        "                ['ERI', 'ITAEAFRI', 'GBRAFRI'], ['TTO', 'GBRWINDIES'], ['SLE', 'GBRWAFRI'], ['GMB', 'GBRWAFRI'], ['TGO', 'GBRWAFRI'], ['EGY', 'OTTO'],\n",
        "                ['PNG', 'GBRPAPUA'], ['MLT', 'GBRMEDI'], ['BGD', 'GBRIND'], ['BTN', 'GBRIND'], ['IND', 'GBRIND'], ['MDV', 'GBRIND'], ['NPL', 'GBRIND'], ['PAK', 'GBRIND'], \n",
        "                ['LKA', 'GBRIND'], ['CMR', 'GBRAFRI', 'FRAAFRI'], ['KEN', 'GBRAFRI'], ['SYC', 'GBRAFRI'], ['SDN', 'GBRAFRI'], ['UGA', 'GBRAFRI'], ['LSO', 'GBRAFRI'], \n",
        "                ['SWZ', 'GBRAFRI']]\n",
        "\n",
        "    # validate my matches\n",
        "    code_count = {}\n",
        "    for codes in mapped_codes:\n",
        "        matched_to_vdem = 0\n",
        "        for code in codes:\n",
        "            if len(code) == 3:\n",
        "                if code in vdem_country_codes:\n",
        "                    if code in code_count:\n",
        "                        code_count[code] += 1\n",
        "                    else:\n",
        "                        code_count[code] = 1\n",
        "                    matched_to_vdem += 1\n",
        "\n",
        "        if matched_to_vdem == 0:\n",
        "            raise ValueError(\"{} country code set matched to no VDem node\".format(codes))\n",
        "        elif matched_to_vdem > 1:\n",
        "            raise ValueError(\"{} country code set matched to more than one VDem node\".format(codes))\n",
        "\n",
        "        if codes[0] not in vdem_country_codes:\n",
        "            raise ValueError(\"VDem code should be first in list.\")\n",
        "\n",
        "    for code in code_count:\n",
        "        if code_count[code] != 1:\n",
        "            raise ValueError(\"VDem code {} matched to more than one country code set\".format(code))\n",
        "\n",
        "    for code in shared_codes:\n",
        "        if code not in code_count:\n",
        "            mapped_codes.append([code])\n",
        "\n",
        "mapped_codes = get_mapping()\n",
        "\n",
        "print_set(mapped_codes, 10)"
      ],
      "execution_count": null,
      "outputs": [
        {
          "output_type": "error",
          "ename": "NameError",
          "evalue": "ignored",
          "traceback": [
            "\u001b[0;31m---------------------------------------------------------------------------\u001b[0m",
            "\u001b[0;31mNameError\u001b[0m                                 Traceback (most recent call last)",
            "\u001b[0;32m<ipython-input-5-73a0631e9c1d>\u001b[0m in \u001b[0;36m<module>\u001b[0;34m()\u001b[0m\n\u001b[1;32m     41\u001b[0m             \u001b[0mmapped_codes\u001b[0m\u001b[0;34m.\u001b[0m\u001b[0mappend\u001b[0m\u001b[0;34m(\u001b[0m\u001b[0;34m[\u001b[0m\u001b[0mcode\u001b[0m\u001b[0;34m]\u001b[0m\u001b[0;34m)\u001b[0m\u001b[0;34m\u001b[0m\u001b[0;34m\u001b[0m\u001b[0m\n\u001b[1;32m     42\u001b[0m \u001b[0;34m\u001b[0m\u001b[0m\n\u001b[0;32m---> 43\u001b[0;31m \u001b[0mmapped_codes\u001b[0m \u001b[0;34m=\u001b[0m \u001b[0mget_mapping\u001b[0m\u001b[0;34m(\u001b[0m\u001b[0;34m)\u001b[0m\u001b[0;34m\u001b[0m\u001b[0;34m\u001b[0m\u001b[0m\n\u001b[0m\u001b[1;32m     44\u001b[0m \u001b[0;34m\u001b[0m\u001b[0m\n\u001b[1;32m     45\u001b[0m \u001b[0mprint_set\u001b[0m\u001b[0;34m(\u001b[0m\u001b[0mmapped_codes\u001b[0m\u001b[0;34m,\u001b[0m \u001b[0;36m10\u001b[0m\u001b[0;34m)\u001b[0m\u001b[0;34m\u001b[0m\u001b[0;34m\u001b[0m\u001b[0m\n",
            "\u001b[0;32m<ipython-input-5-73a0631e9c1d>\u001b[0m in \u001b[0;36mget_mapping\u001b[0;34m()\u001b[0m\n\u001b[1;32m     18\u001b[0m         \u001b[0;32mfor\u001b[0m \u001b[0mcode\u001b[0m \u001b[0;32min\u001b[0m \u001b[0mcodes\u001b[0m\u001b[0;34m:\u001b[0m\u001b[0;34m\u001b[0m\u001b[0;34m\u001b[0m\u001b[0m\n\u001b[1;32m     19\u001b[0m             \u001b[0;32mif\u001b[0m \u001b[0mlen\u001b[0m\u001b[0;34m(\u001b[0m\u001b[0mcode\u001b[0m\u001b[0;34m)\u001b[0m \u001b[0;34m==\u001b[0m \u001b[0;36m3\u001b[0m\u001b[0;34m:\u001b[0m\u001b[0;34m\u001b[0m\u001b[0;34m\u001b[0m\u001b[0m\n\u001b[0;32m---> 20\u001b[0;31m                 \u001b[0;32mif\u001b[0m \u001b[0mcode\u001b[0m \u001b[0;32min\u001b[0m \u001b[0mvdem_country_codes\u001b[0m\u001b[0;34m:\u001b[0m\u001b[0;34m\u001b[0m\u001b[0;34m\u001b[0m\u001b[0m\n\u001b[0m\u001b[1;32m     21\u001b[0m                     \u001b[0;32mif\u001b[0m \u001b[0mcode\u001b[0m \u001b[0;32min\u001b[0m \u001b[0mcode_count\u001b[0m\u001b[0;34m:\u001b[0m\u001b[0;34m\u001b[0m\u001b[0;34m\u001b[0m\u001b[0m\n\u001b[1;32m     22\u001b[0m                         \u001b[0mcode_count\u001b[0m\u001b[0;34m[\u001b[0m\u001b[0mcode\u001b[0m\u001b[0;34m]\u001b[0m \u001b[0;34m+=\u001b[0m \u001b[0;36m1\u001b[0m\u001b[0;34m\u001b[0m\u001b[0;34m\u001b[0m\u001b[0m\n",
            "\u001b[0;31mNameError\u001b[0m: name 'vdem_country_codes' is not defined"
          ]
        }
      ]
    },
    {
      "cell_type": "markdown",
      "metadata": {
        "id": "kQ7KhCAK49Ov",
        "colab_type": "text"
      },
      "source": [
        "Now that we have a mapping between the two datasets we can start putting them together. We will only be using data from 1900 to 2014, as before 1900 the VDem dataset is noted to be much less accurate, and trade data is increasingly absent for smaller nations. "
      ]
    },
    {
      "cell_type": "markdown",
      "metadata": {
        "id": "hQjO9Iw2DIFe",
        "colab_type": "text"
      },
      "source": [
        "This is where we will first use our graph learning library of choice, PyTorch Geometric. PyTorch Geometric provides a base class with which to structure the compilation of a dataset."
      ]
    },
    {
      "cell_type": "code",
      "metadata": {
        "id": "wBRnbTWdDX1U",
        "colab_type": "code",
        "colab": {
          "base_uri": "https://localhost:8080/",
          "height": 1000
        },
        "outputId": "200e2e42-ba54-4e64-a739-353160112cf7"
      },
      "source": [
        "!pip install torch==1.5.0\n",
        "!pip install torch-scatter==latest+cu101 -f https://pytorch-geometric.com/whl/torch-1.5.0.html\n",
        "!pip install torch-sparse==latest+cu101 -f https://pytorch-geometric.com/whl/torch-1.5.0.html\n",
        "!pip install torch-cluster==latest+cu101 -f https://pytorch-geometric.com/whl/torch-1.5.0.html\n",
        "!pip install torch-spline-conv==latest+cu101 -f https://pytorch-geometric.com/whl/torch-1.5.0.html\n",
        "!pip install torch-geometric"
      ],
      "execution_count": null,
      "outputs": [
        {
          "output_type": "stream",
          "text": [
            "Requirement already satisfied: torch==1.5.0 in /usr/local/lib/python3.6/dist-packages (1.5.0+cu101)\n",
            "Requirement already satisfied: numpy in /usr/local/lib/python3.6/dist-packages (from torch==1.5.0) (1.18.4)\n",
            "Requirement already satisfied: future in /usr/local/lib/python3.6/dist-packages (from torch==1.5.0) (0.16.0)\n",
            "Looking in links: https://pytorch-geometric.com/whl/torch-1.5.0.html\n",
            "Collecting torch-scatter==latest+cu101\n",
            "  Using cached https://pytorch-geometric.com/whl/torch-1.5.0/torch_scatter-latest%2Bcu101-cp36-cp36m-linux_x86_64.whl\n",
            "Installing collected packages: torch-scatter\n",
            "  Found existing installation: torch-scatter 2.0.4\n",
            "    Uninstalling torch-scatter-2.0.4:\n",
            "      Successfully uninstalled torch-scatter-2.0.4\n",
            "Successfully installed torch-scatter-2.0.4\n"
          ],
          "name": "stdout"
        },
        {
          "output_type": "display_data",
          "data": {
            "application/vnd.colab-display-data+json": {
              "pip_warning": {
                "packages": [
                  "torch_scatter"
                ]
              }
            }
          },
          "metadata": {
            "tags": []
          }
        },
        {
          "output_type": "stream",
          "text": [
            "Looking in links: https://pytorch-geometric.com/whl/torch-1.5.0.html\n",
            "Collecting torch-sparse==latest+cu101\n",
            "  Using cached https://pytorch-geometric.com/whl/torch-1.5.0/torch_sparse-latest%2Bcu101-cp36-cp36m-linux_x86_64.whl\n",
            "Requirement already satisfied: scipy in /usr/local/lib/python3.6/dist-packages (from torch-sparse==latest+cu101) (1.4.1)\n",
            "Requirement already satisfied: numpy>=1.13.3 in /usr/local/lib/python3.6/dist-packages (from scipy->torch-sparse==latest+cu101) (1.18.4)\n",
            "Installing collected packages: torch-sparse\n",
            "  Found existing installation: torch-sparse 0.6.4\n",
            "    Uninstalling torch-sparse-0.6.4:\n",
            "      Successfully uninstalled torch-sparse-0.6.4\n",
            "Successfully installed torch-sparse-0.6.4\n"
          ],
          "name": "stdout"
        },
        {
          "output_type": "display_data",
          "data": {
            "application/vnd.colab-display-data+json": {
              "pip_warning": {
                "packages": [
                  "torch_sparse"
                ]
              }
            }
          },
          "metadata": {
            "tags": []
          }
        },
        {
          "output_type": "stream",
          "text": [
            "Looking in links: https://pytorch-geometric.com/whl/torch-1.5.0.html\n",
            "Collecting torch-cluster==latest+cu101\n",
            "  Using cached https://pytorch-geometric.com/whl/torch-1.5.0/torch_cluster-latest%2Bcu101-cp36-cp36m-linux_x86_64.whl\n",
            "Requirement already satisfied: scipy in /usr/local/lib/python3.6/dist-packages (from torch-cluster==latest+cu101) (1.4.1)\n",
            "Requirement already satisfied: numpy>=1.13.3 in /usr/local/lib/python3.6/dist-packages (from scipy->torch-cluster==latest+cu101) (1.18.4)\n",
            "Installing collected packages: torch-cluster\n",
            "  Found existing installation: torch-cluster 1.5.4\n",
            "    Uninstalling torch-cluster-1.5.4:\n",
            "      Successfully uninstalled torch-cluster-1.5.4\n",
            "Successfully installed torch-cluster-1.5.4\n"
          ],
          "name": "stdout"
        },
        {
          "output_type": "display_data",
          "data": {
            "application/vnd.colab-display-data+json": {
              "pip_warning": {
                "packages": [
                  "torch_cluster"
                ]
              }
            }
          },
          "metadata": {
            "tags": []
          }
        },
        {
          "output_type": "stream",
          "text": [
            "Looking in links: https://pytorch-geometric.com/whl/torch-1.5.0.html\n",
            "Collecting torch-spline-conv==latest+cu101\n",
            "  Using cached https://pytorch-geometric.com/whl/torch-1.5.0/torch_spline_conv-latest%2Bcu101-cp36-cp36m-linux_x86_64.whl\n",
            "Installing collected packages: torch-spline-conv\n",
            "  Found existing installation: torch-spline-conv 1.2.0\n",
            "    Uninstalling torch-spline-conv-1.2.0:\n",
            "      Successfully uninstalled torch-spline-conv-1.2.0\n",
            "Successfully installed torch-spline-conv-1.2.0\n"
          ],
          "name": "stdout"
        },
        {
          "output_type": "display_data",
          "data": {
            "application/vnd.colab-display-data+json": {
              "pip_warning": {
                "packages": [
                  "torch_spline_conv"
                ]
              }
            }
          },
          "metadata": {
            "tags": []
          }
        },
        {
          "output_type": "stream",
          "text": [
            "Requirement already satisfied: torch-geometric in /usr/local/lib/python3.6/dist-packages (1.5.0)\n",
            "Requirement already satisfied: requests in /usr/local/lib/python3.6/dist-packages (from torch-geometric) (2.23.0)\n",
            "Requirement already satisfied: h5py in /usr/local/lib/python3.6/dist-packages (from torch-geometric) (2.10.0)\n",
            "Requirement already satisfied: torch in /usr/local/lib/python3.6/dist-packages (from torch-geometric) (1.5.0+cu101)\n",
            "Requirement already satisfied: numpy in /usr/local/lib/python3.6/dist-packages (from torch-geometric) (1.18.4)\n",
            "Requirement already satisfied: plyfile in /usr/local/lib/python3.6/dist-packages (from torch-geometric) (0.7.2)\n",
            "Requirement already satisfied: numba in /usr/local/lib/python3.6/dist-packages (from torch-geometric) (0.48.0)\n",
            "Requirement already satisfied: ase in /usr/local/lib/python3.6/dist-packages (from torch-geometric) (3.19.1)\n",
            "Requirement already satisfied: scipy in /usr/local/lib/python3.6/dist-packages (from torch-geometric) (1.4.1)\n",
            "Requirement already satisfied: tqdm in /usr/local/lib/python3.6/dist-packages (from torch-geometric) (4.41.1)\n",
            "Requirement already satisfied: rdflib in /usr/local/lib/python3.6/dist-packages (from torch-geometric) (5.0.0)\n",
            "Requirement already satisfied: googledrivedownloader in /usr/local/lib/python3.6/dist-packages (from torch-geometric) (0.4)\n",
            "Requirement already satisfied: networkx in /usr/local/lib/python3.6/dist-packages (from torch-geometric) (2.4)\n",
            "Requirement already satisfied: pandas in /usr/local/lib/python3.6/dist-packages (from torch-geometric) (1.0.4)\n",
            "Requirement already satisfied: scikit-learn in /usr/local/lib/python3.6/dist-packages (from torch-geometric) (0.22.2.post1)\n",
            "Requirement already satisfied: idna<3,>=2.5 in /usr/local/lib/python3.6/dist-packages (from requests->torch-geometric) (2.9)\n",
            "Requirement already satisfied: chardet<4,>=3.0.2 in /usr/local/lib/python3.6/dist-packages (from requests->torch-geometric) (3.0.4)\n",
            "Requirement already satisfied: certifi>=2017.4.17 in /usr/local/lib/python3.6/dist-packages (from requests->torch-geometric) (2020.4.5.1)\n",
            "Requirement already satisfied: urllib3!=1.25.0,!=1.25.1,<1.26,>=1.21.1 in /usr/local/lib/python3.6/dist-packages (from requests->torch-geometric) (1.24.3)\n",
            "Requirement already satisfied: six in /usr/local/lib/python3.6/dist-packages (from h5py->torch-geometric) (1.12.0)\n",
            "Requirement already satisfied: future in /usr/local/lib/python3.6/dist-packages (from torch->torch-geometric) (0.16.0)\n",
            "Requirement already satisfied: llvmlite<0.32.0,>=0.31.0dev0 in /usr/local/lib/python3.6/dist-packages (from numba->torch-geometric) (0.31.0)\n",
            "Requirement already satisfied: setuptools in /usr/local/lib/python3.6/dist-packages (from numba->torch-geometric) (47.1.1)\n",
            "Requirement already satisfied: matplotlib in /usr/local/lib/python3.6/dist-packages (from ase->torch-geometric) (3.2.1)\n",
            "Requirement already satisfied: isodate in /usr/local/lib/python3.6/dist-packages (from rdflib->torch-geometric) (0.6.0)\n",
            "Requirement already satisfied: pyparsing in /usr/local/lib/python3.6/dist-packages (from rdflib->torch-geometric) (2.4.7)\n",
            "Requirement already satisfied: decorator>=4.3.0 in /usr/local/lib/python3.6/dist-packages (from networkx->torch-geometric) (4.4.2)\n",
            "Requirement already satisfied: pytz>=2017.2 in /usr/local/lib/python3.6/dist-packages (from pandas->torch-geometric) (2018.9)\n",
            "Requirement already satisfied: python-dateutil>=2.6.1 in /usr/local/lib/python3.6/dist-packages (from pandas->torch-geometric) (2.8.1)\n",
            "Requirement already satisfied: joblib>=0.11 in /usr/local/lib/python3.6/dist-packages (from scikit-learn->torch-geometric) (0.15.1)\n",
            "Requirement already satisfied: cycler>=0.10 in /usr/local/lib/python3.6/dist-packages (from matplotlib->ase->torch-geometric) (0.10.0)\n",
            "Requirement already satisfied: kiwisolver>=1.0.1 in /usr/local/lib/python3.6/dist-packages (from matplotlib->ase->torch-geometric) (1.2.0)\n"
          ],
          "name": "stdout"
        }
      ]
    },
    {
      "cell_type": "code",
      "metadata": {
        "id": "rH963gAoAi0g",
        "colab_type": "code",
        "colab": {
          "base_uri": "https://localhost:8080/",
          "height": 324
        },
        "outputId": "850935b9-8ecd-411b-cb33-8e1513235bcb"
      },
      "source": [
        "import torch\n",
        "import torch_geometric.data as geo_data"
      ],
      "execution_count": null,
      "outputs": [
        {
          "output_type": "error",
          "ename": "ModuleNotFoundError",
          "evalue": "ignored",
          "traceback": [
            "\u001b[0;31m---------------------------------------------------------------------------\u001b[0m",
            "\u001b[0;31mModuleNotFoundError\u001b[0m                       Traceback (most recent call last)",
            "\u001b[0;32m<ipython-input-3-386f5a094248>\u001b[0m in \u001b[0;36m<module>\u001b[0;34m()\u001b[0m\n\u001b[0;32m----> 1\u001b[0;31m \u001b[0;32mfrom\u001b[0m \u001b[0mnestedtensor\u001b[0m \u001b[0;32mimport\u001b[0m \u001b[0mtorch\u001b[0m\u001b[0;34m\u001b[0m\u001b[0;34m\u001b[0m\u001b[0m\n\u001b[0m\u001b[1;32m      2\u001b[0m \u001b[0;32mimport\u001b[0m \u001b[0mtorch_geometric\u001b[0m\u001b[0;34m.\u001b[0m\u001b[0mdata\u001b[0m \u001b[0;32mas\u001b[0m \u001b[0mgeo_data\u001b[0m\u001b[0;34m\u001b[0m\u001b[0;34m\u001b[0m\u001b[0m\n",
            "\u001b[0;31mModuleNotFoundError\u001b[0m: No module named 'nestedtensor'",
            "",
            "\u001b[0;31m---------------------------------------------------------------------------\u001b[0;32m\nNOTE: If your import is failing due to a missing package, you can\nmanually install dependencies using either !pip or !apt.\n\nTo view examples of installing some common dependencies, click the\n\"Open Examples\" button below.\n\u001b[0;31m---------------------------------------------------------------------------\u001b[0m\n"
          ]
        }
      ]
    },
    {
      "cell_type": "markdown",
      "metadata": {
        "id": "hqJ2meMQOV9a",
        "colab_type": "text"
      },
      "source": [
        "We will initially create a simple model trying to predict next year's democracy indicators from this year's democracy indicators, alongside trade and other geopolitical data. This has the disadvantage compared to a more traditional RNN of not having long term memory, but it will create a good baseline."
      ]
    },
    {
      "cell_type": "code",
      "metadata": {
        "id": "2HEGaV9ikVIE",
        "colab_type": "code",
        "colab": {}
      },
      "source": [
        "def create_mapping_idx_lookup(mapping):\n",
        "    lookup = {}\n",
        "    for idx, country in mapping:\n",
        "        for code in country:\n",
        "            lookup[code] = idx\n",
        "\n",
        "    return lookup"
      ],
      "execution_count": null,
      "outputs": []
    },
    {
      "cell_type": "code",
      "metadata": {
        "id": "mB5Carkl48Iy",
        "colab_type": "code",
        "colab": {}
      },
      "source": [
        "class TradeDemoYearByYearDataset(geo_data.InMemoryDataset):\n",
        "    def __init__(self, root, transform=None, pre_transform=None):\n",
        "        super(TradeDemoDataset, self).__init__(root, transform, pre_transform)\n",
        "        self.data, self.slices = torch.load(self.processed_paths[0])\n",
        "\n",
        "        data_path = os.path.join('/', 'content', 'drive', 'My Drive', 'projects', 'trade_democratization', 'dataset')\n",
        "        self.raw_dir = data_path\n",
        "        self.processed_dir = data_path\n",
        "\n",
        "        self.year_start = 1900\n",
        "        self.year_end = 2015\n",
        "\n",
        "        self.norm_stats = os.path.join('/', 'content', 'drive', 'My Drive', 'projects', 'trade_democratization', 'dataset')\n",
        "\n",
        "    @property\n",
        "    def raw_file_names(self):\n",
        "        files = []\n",
        "        # vdem dataset\n",
        "        files.append(\"V-Dem-CY-Core-v10.csv\")\n",
        "        # gdp and population data\n",
        "        files.append(\"TRADHIST_GDP_POP.xlsx\")\n",
        "        # time invariant bilateral data such as distance, common language\n",
        "        files.append(\"TRADHIST_GRAVITY_BILATERAL_TIME_INVARIANT.xlsx\")\n",
        "        # time variant non trade bilateral data such as colony status\n",
        "        for idx in range(1, 4):\n",
        "            files.append(\"TRADHIST_GRAVITY_BILATERAL_TIME_VARIANT_{}.xlsx\".format(idx))\n",
        "        # historical bilateral trade and tariff data\n",
        "        for idx in range(1, 4):\n",
        "            files.append(\"TRADHIST_BITRADE_BITARIFF_{}.xlsx\".format(idx))\n",
        "\n",
        "        return files\n",
        "\n",
        "    @property\n",
        "    def processed_file_names(self):\n",
        "        return ['traddem.pt']\n",
        "\n",
        "    def process(self):\n",
        "        # Read data into Data object.\n",
        "        vdem_nodes = pd.read_csv(os.path.join(self.raw_dir, \"V-Dem-CY-Core-v10.csv\"))\n",
        "\n",
        "        tradhist_gdppop = pd.read_excel(os.path.join(self.raw_dir, \"TRADHIST_GDP_POP.xlsx\"))\n",
        "\n",
        "        tradhist_timeinvar = pd.read_excel(os.path.join(self.raw_dir, \"TRADHIST_GRAVITY_BILATERAL_TIME_INVARIANT.xlsx\"))\n",
        "\n",
        "        tradhist_timevar_frames = []\n",
        "        for idx in range(1, 4):\n",
        "            tradhist_timevar_frames.append(pd.read_excel(os.path.join(self.raw_dir, \"TRADHIST_GRAVITY_BILATERAL_TIME_VARIANT_{}.xlsx\".format(idx))))\n",
        "        tradhist_timevar = pd.concat(tradhist_timevar_frames)\n",
        "\n",
        "        tradhist_bitrade_frames = []\n",
        "        for idx in range(1, 4):\n",
        "            tradhist_bitrade_frames.append(pd.read_excel(os.path.join(self.raw_dir, \"TRADHIST_BITRADE_BITARIFF_{}.xlsx\".format(idx))))\n",
        "        tradhist_bitrade = pd.concat(tradhist_bitrade_frames)\n",
        "\n",
        "        country_mapping = get_mapping()\n",
        "        country_idx_lookup = create_mapping_idx_lookup(country_mapping)\n",
        "\n",
        "        num_countries = len(mapping)\n",
        "        num_node_features = 2 + 5 # include GDP and population data, and democracy data from last year\n",
        "        num_node_targets = 5 # 5 main indicators of democracy from the VDem dataset\n",
        "        num_edge_features = 9 # Trade flow, indicator of zero trade, tariffs, current colony relationship, ever a colony, distance, maritime distance, common language, and shared border\n",
        "\n",
        "        all_years = []\n",
        "\n",
        "        for year_idx, year in enumerate(range(self.year_start, self.year_end)):\n",
        "            year_edge_attr = []\n",
        "            year_edge_index = []\n",
        "\n",
        "            node_features = np.zeroes((num_countries, num_node_features))\n",
        "            node_prior = np.\n",
        "            node_target = np.zeroes((num_countries, num_node_targets))\n",
        "\n",
        "            for country_idx, country_codes in enumerate(country_mapping):\n",
        "                nodes_features[country_idx, :2] = tradhist_gdppop[(tradhist_gdppop['country_text_id'].isin(country_codes)) & (tradhist_gdppop['country_text_id'] == year)]\n",
        "                                                                                 [['GDP', 'POP']].values\n",
        "                node_features[country_idx, 2:] = vdem_nodes[(vdem_nodes['country_text_id'] == country_codes[0]) & (vdem_nodes['year'] == year)]\n",
        "                                                                          [['v2x_polyarchy', 'v2x_libdem', 'v2x_partipdem', 'v2x_delibdem', 'v2x_egaldem']].values\n",
        "                nodes_target[country_idx, :] = vdem_nodes[(vdem_nodes['country_text_id'] == country_codes[0]) & (vdem_nodes['year'] == year + 1)]\n",
        "                                                                          [['v2x_polyarchy', 'v2x_libdem', 'v2x_partipdem', 'v2x_delibdem', 'v2x_egaldem']].values\n",
        "            \n",
        "                timeinvar = tradhist_timeinvar[(tradhist_timeinvar['iso_d'].isin(country_codes))]\n",
        "                timevar = tradhist_timevar[(tradhist_timevar['iso_d'].isin(country_codes)) & (tradhist_timevar['year'] == year)]\n",
        "                bitrade = tradhist_bitrade[(tradhist_bitrade['iso_d'].isin(country_codes)) & (tradhist_bitrade['year'] == year)]\n",
        "\n",
        "                bilateral = timeinvar.merge(timevar, on=[\"iso_o\"]).merge(bitrade, on=[\"iso_o\"])\n",
        "\n",
        "                for idx, link in bilateral.iterrows():\n",
        "                    origin_country_idx = country_idx_lookup[link[\"iso_o\"].value[0]]\n",
        "                    bilateral_attrs = link[['Dist_coord', 'Evercol', 'Comlang', 'Contig', 'SeaDist_2CST', 'Curcol']].value\n",
        "\n",
        "                    year_edge_attr.append(bilateral_attrs)\n",
        "                    year_edge_index.append([origin_country_idx, country_idx])\n",
        "\n",
        "            year_graph = Data(x=torch.tensor(node_features), y=torch.tensor(node_target), edge_index=torch.tensor(year_edge_index), edge_attr=torch.tensor(year_edge_attr))\n",
        "            all_years.append(year_graph)\n",
        "\n",
        "        # get normalization stats\n",
        "        # for completely unbiased test we should only get training set stats but will pass on that for this\n",
        "        stacked_x = torch.cat((graph.x for graph in all_years), 0)\n",
        "        stacked_y = torch.cat((graph.y for graph in all_years), 0)\n",
        "        stacked_atts = torch.cat((graph.edge_attr for graph in all_years), 0)\n",
        "\n",
        "        x_mean = torch.mean(stacked_x, 0)\n",
        "        x_std = torch.std(stacked_x, 0)\n",
        "        y_mean = torch.mean(stacked_y, 0)\n",
        "        y_std = torch.std(stacked_y, 0)\n",
        "        attr_mean = torch.mean(stacked_attrs, 0)\n",
        "        attr_std = torch.std(stacked_attrs, 0)\n",
        "\n",
        "        for graph in all_years:\n",
        "            normed_x = (graph.x - x_mean) / x_std\n",
        "            normed_y = (graph.y - y_mean) / y_std\n",
        "            normed_attr = (graph.edge_attr - attr_mean) / attr_std\n",
        "            graph.x = normed_x\n",
        "            graph.y = normed_y\n",
        "            graph.edge_attr = normed_attr\n",
        "\n",
        "        # save stats for later use\n",
        "        torch.save({\"x_mean\": x_mean, \"x_std\": x_std, \"y_mean\": y_mean, \"y_std\": y_std, \"attr_mean\": attr_mean, \"attr_std\": attr_std}, self.norm_stats)\n",
        "\n",
        "        data, slices = self.collate(all_years)\n",
        "        torch.save((data, slices), self.processed_paths[0])\n",
        "\n",
        "    def get_norm_stats(self):\n",
        "        return torch.load(self.norm_stats)"
      ],
      "execution_count": null,
      "outputs": []
    },
    {
      "cell_type": "markdown",
      "metadata": {
        "id": "d_LcIz33gK5x",
        "colab_type": "text"
      },
      "source": [
        "Now that the dataset has been created, we need to shuffle, partition, and load the dataset into batches using the PyTorch Geometric data loader."
      ]
    },
    {
      "cell_type": "code",
      "metadata": {
        "id": "w83aoW2shRyT",
        "colab_type": "code",
        "colab": {}
      },
      "source": [
        "\n",
        "dataset = TradeDemoYearByYearDataset()\n",
        "dataset.shuffle()\n",
        "\n",
        "# split into three sets\n",
        "num_train = int(len(dataset) * 0.8)\n",
        "num_val = int(len(dataset) * 0.1)\n",
        "num_test = int(len(dataset) * 0.1)\n",
        "\n",
        "train_set = dataset[:num_train]\n",
        "val_set = dataset[num_train:num_train+num_val]\n",
        "test_set = dataset[-num_test:]\n",
        "\n",
        "# load into batches\n",
        "train_loader = geo.data.DataLoader(train_set, batch_size=32, shuffle=True)\n",
        "val_loader = geo.data.DataLoader(val_set, batch_size=32, shuffle=True)\n",
        "test_loader = geo.data.DataLoader(test_set, batch_size=32, shuffle=True)"
      ],
      "execution_count": null,
      "outputs": []
    },
    {
      "cell_type": "markdown",
      "metadata": {
        "id": "N11bf0Te6F1U",
        "colab_type": "text"
      },
      "source": [
        "Now we will define a simple graph network model that will predict next years democratization level given a range of variables for this year."
      ]
    },
    {
      "cell_type": "code",
      "metadata": {
        "id": "nG-CsMvR6WIe",
        "colab_type": "code",
        "colab": {}
      },
      "source": [
        "class RegressionGraphNet(torch.nn.Module):\n",
        "    def __init__(self, num_node_features, num_outputs):\n",
        "        super(RegressionGraphNet, self).__init__()\n",
        "        self.conv1 = GCNConv(num_node_features, 16)\n",
        "        self.conv2 = GCNConv(16, num_outputs)\n",
        "\n",
        "    def forward(self, data):\n",
        "        x, edge_index, edge_attr = data.x, data.edge_index, data.edge_attr\n",
        "\n",
        "        x = self.conv1(x, edge_index, edge_attr)\n",
        "        x = F.relu(x)\n",
        "        x = F.dropout(x, training=self.training)\n",
        "        x = self.conv2(x, edge_index, edge_attr)\n",
        "\n",
        "        # final activation is relu as this is for regression and the metrics of this dataset are all positive\n",
        "        return F.relu(x)"
      ],
      "execution_count": null,
      "outputs": []
    },
    {
      "cell_type": "markdown",
      "metadata": {
        "id": "fBb9TEkeELi9",
        "colab_type": "text"
      },
      "source": [
        "We now create an instance of the model and optimizer:"
      ]
    },
    {
      "cell_type": "code",
      "metadata": {
        "id": "fEb0DhpBEvVP",
        "colab_type": "code",
        "colab": {}
      },
      "source": [
        "device = torch.device('cuda' if torch.cuda.is_available() else 'cpu')\n",
        "print(dataset.num_features)\n",
        "print(dataset[0].y.size(1))\n",
        "model = RegressionGraphNet(dataset.num_features, dataset[0].y.size(1))\n",
        "model = model.to(device)\n",
        "optimizer = torch.optim.Adam(model.parameters(), lr=0.01)"
      ],
      "execution_count": null,
      "outputs": []
    },
    {
      "cell_type": "markdown",
      "metadata": {
        "id": "SuNBVU5VF6If",
        "colab_type": "text"
      },
      "source": [
        "Define our training and test calls"
      ]
    },
    {
      "cell_type": "code",
      "metadata": {
        "id": "4Nb0OYHAGI9g",
        "colab_type": "code",
        "colab": {}
      },
      "source": [
        "def train():\n",
        "    model.train()\n",
        "\n",
        "    for batch in train_loader:\n",
        "        batch = batch.to(device)\n",
        "        optimizer.zero_grad()\n",
        "        out = model(batch)\n",
        "        label = batch.y\n",
        "        # good loss for regression problems\n",
        "        loss = F.smooth_l1_loss(out, label)\n",
        "        loss.backward()\n",
        "        loss_all += loss.item()\n",
        "        optimizer.step()\n",
        "    return loss_all / num_train\n",
        "\n",
        "@torch.no_grad()\n",
        "def test(loader):\n",
        "    model.eval()\n",
        "    num_batches = 0\n",
        "\n",
        "    for batch in loader:\n",
        "        batch = batch.to(device)\n",
        "        pred = model(batch)\n",
        "        label = batch.y\n",
        "        # good loss for regression problems\n",
        "        loss = F.smooth_l1_loss(pred, label)\n",
        "        all_loss += loss\n",
        "        num_batches += 1\n",
        "    return all_loss / num_batches\n"
      ],
      "execution_count": null,
      "outputs": []
    },
    {
      "cell_type": "code",
      "metadata": {
        "id": "kE9GgHFrXL4E",
        "colab_type": "code",
        "colab": {}
      },
      "source": [
        "MAX_EPOCHS = 100\n",
        "min_val_loss = float(\"inf\")\n",
        "epochs_since = 0\n",
        "NUM_NON_DECREASING = 10\n",
        "for epoch in range(MAX_EPOCH):\n",
        "    train_loss = train()\n",
        "    val_loss = test(val_loader)\n",
        "\n",
        "    print('Epoch: {}, Train Loss: {:.4f}, Validation Loss: {:.4f}'.format(epoch, train_loss, val_loss))\n",
        "\n",
        "    if val_loss < min_val_loss:\n",
        "        min_val_loss = val_loss\n",
        "        epochs_since = 0\n",
        "\n",
        "    epochs_since += 1\n",
        "    if epochs_since > NUM_NON_DECREASING:\n",
        "        print(\"Early stopping engaged\")\n",
        "        break\n"
      ],
      "execution_count": null,
      "outputs": []
    },
    {
      "cell_type": "code",
      "metadata": {
        "id": "Jxo5JQayXOtA",
        "colab_type": "code",
        "colab": {}
      },
      "source": [
        "test_loss = test(test_loader)\n",
        "print('Final Test Loss: {:.4f}'.format(test_loss))"
      ],
      "execution_count": null,
      "outputs": []
    },
    {
      "cell_type": "markdown",
      "metadata": {
        "id": "I5936TCwQAUJ",
        "colab_type": "text"
      },
      "source": [
        "Draft attempt at a recursive graph network, will come back to later after working on simpler model."
      ]
    },
    {
      "cell_type": "code",
      "metadata": {
        "id": "HnlO1O_VtdLM",
        "colab_type": "code",
        "colab": {}
      },
      "source": [
        "class RecurGraphNet(torch.nn.Module):\n",
        "    def __init__(self, node_features, output_size, graph_channels_out, lstm_hidden_size):\n",
        "        super(RecurGraphNet, self).__init__()\n",
        "        # graph convolutional layer to create graph representation\n",
        "        self.conv = GCNConv(node_features, graph_embedding_size)\n",
        "        # lstm to learn sequential patterns\n",
        "        self.lstm = torch.nn.LSTM(graph_embedding_size, lstm_hidden_size)\n",
        "\n",
        "        # initial trainable hidden state for lstm\n",
        "        self.lstm_h_s = torch.nn.Linear(output_size, lstm_hidden_size)\n",
        "        self.lstm_c_s = torch.nn.Linear(output_size, lstm_hidden_size)\n",
        "\n",
        "        # final linear layer to allow full expressivity for regression after tanh activation in lstm\n",
        "        self.final_linear = torch.nn.Linear()\n",
        "\n",
        "    def forward(self, input):\n",
        "        x, initial_state, edge_index, edge_attr = input.x, input.initial_state, input.edge_index, input.edge_attr\n",
        "\n",
        "        # create graph representation\n",
        "        graph_collection = []\n",
        "        for step_idx in range(x.shape[0]):\n",
        "            graph_step = F.relu(self.conv(x[step_idx], edge_index[step_idx], edge_attr[step_idx]))\n",
        "            graph_collection.append(graph_step)\n",
        "        # provide graph representations as sequence to lstm\n",
        "        graph_series = torch.stack(graph_collection)\n",
        "\n",
        "        # recurrent stage\n",
        "        # initial state of lstm is representation of target prior to this sequence\n",
        "        lstm_output = self.lstm(graph_series, (self.lstm_h_s(initial_state), self.lstm_c_s(initial_state)))\n",
        "\n",
        "        # final activation is relu as this is for regression and the metrics of this dataset are all positive\n",
        "        return F.relu(self.final_linear(lstm_output.view(-1, lstm_output.size(2)))"
      ],
      "execution_count": null,
      "outputs": []
    },
    {
      "cell_type": "markdown",
      "metadata": {
        "id": "l5LKkWb9luik",
        "colab_type": "text"
      },
      "source": [
        "For missing values, we want to provide the model with as little information as possible to avoid it creating any incorrect correlations. In this context, the least information we can give for a missing time point with the lowest information entropy is an average. Therefore once all trade data has been normalised by the aggregate trade for a country, missing values will be filled with an average of all present values."
      ]
    },
    {
      "cell_type": "code",
      "metadata": {
        "id": "QDTgtzbv4coa",
        "colab_type": "code",
        "colab": {}
      },
      "source": [
        ""
      ],
      "execution_count": null,
      "outputs": []
    }
  ]
}